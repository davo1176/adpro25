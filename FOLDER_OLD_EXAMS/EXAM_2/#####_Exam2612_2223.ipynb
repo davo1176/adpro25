{
 "cells": [
  {
   "cell_type": "markdown",
   "id": "367a8709",
   "metadata": {},
   "source": [
    "# Welcome to project Stockgo!\n",
    "<div style=\"padding: 15px; border: 1px solid transparent; border-color: transparent; margin-bottom: 20px; border-radius: 4px; color: #FFFFFF; background-color: #DD0000; border-color: #ebccd1;\">\n",
    "Change the ##### in the filename to your student number!\n",
    "</div>\n",
    "\n",
    "<div style=\"padding: 15px; border: 1px solid transparent; border-color: transparent; margin-bottom: 20px; border-radius: 4px; color: #FFFFFF; background-color: #DD0000; border-color: #ebccd1;\">\n",
    "There's an acompannying quiz on moodle, don't forget!\n",
    "</div>\n",
    "\n",
    "You were given the challenge of building code that could easily compare stock data.  \n",
    "Since you want to learn more about the stock market, you accept.\n",
    "\n",
    "You are given two datasets, [ALBE.csv](ALB.csv) and [TSLA.csv](TSLA.csv), representing stock data from [Albemarle](https://en.wikipedia.org/wiki/Albemarle_Corporation) and [Tesla](https://en.wikipedia.org/wiki/Tesla,_Inc.), respectively\n",
    "* Albemarle is a chemical manufacturing company with a major Lithium production output for batteries.\n",
    "* Tesla is the famous automotive and clean tech company.\n",
    "\n",
    "To better prepare for future analysis you decide to develop some code to speed things up.\n",
    "<div style=\"padding: 15px; border: 1px solid transparent; border-color: transparent; margin-bottom: 20px; border-radius: 4px; color: #FFFFFF; background-color: #DD0000; border-color: #ebccd1;\">\n",
    "When referring to arguments of functions, classes, and methods, we assume you have already included the mandatory ones.\n",
    "</div>\n",
    "\n",
    "---\n",
    "## The datasets\n",
    "\n",
    "Every stock price dataset has the same structure:\n",
    "\n",
    "* __Date__: Temporal information about the day the rest of the data corresponds.\n",
    "* __Open__: The price of the stock at the start of the trading period.\n",
    "* __High__: The highest intraday price of the stock.\n",
    "* __Low__: The lowest intraday price of the stock.\n",
    "* __Close__: The price of the stock at the end of the trading period.\n",
    "* __Volume__: How many stocks were traded.\n",
    "\n",
    "---\n",
    "## The Analysis\n",
    "\n",
    "### Exploration (10%)\n",
    "1. What is the combination of directives and characters that allows you to read the ALB.csv item that has temporal information?\n",
    "1. And for TSLA.csv?"
   ]
  },
  {
   "cell_type": "code",
   "execution_count": null,
   "id": "61cd9e4a",
   "metadata": {
    "vscode": {
     "languageId": "plaintext"
    }
   },
   "outputs": [],
   "source": []
  },
  {
   "cell_type": "markdown",
   "id": "79954f32-c54b-4cfa-8bb8-ae011e909928",
   "metadata": {},
   "source": [
    "\n",
    "\n",
    "### Stockgo\n",
    "You decide to write a class called __Stockgo__ that speeds up your analysis. Write a simple docstring in the appropriate place for a class that lists just the __Attributes__ and the __Modules__. Make sure you separate the former two so they are readable by another user.\n",
    "\n",
    "#### Initializing (30%)\n",
    "When initialized, the class must have as arguments:\n",
    "1. A __filename__ parameter, without a default argument.\n",
    "1. A __directives__ string parameter with a default value of the ISO 8601 format with delimiters.\n",
    "1. A __label__ parameter with a default value of \"stock\".\n",
    "1. Make sure the former three arguments are stored as attributes of the class.\n",
    "1. Make a fourth attribute called __trimmed__ with a default value of __False__. This is a surprise tool that will help us later.\n",
    "1. Make a _try-except_ snippet that attempts to read __filename__ into an attribute called __df__, which should be a pandas dataframe. If it is not found the code should __raise__ a _FileNotFoundError_ with an appropriate message.\n",
    "1. Convert the temporal info column of the df attribute into a datetime format using the directives attribute you just created.\n",
    "1. Set the newly converted column as the index of the df pandas dataframe attribute.\n"
   ]
  },
  {
   "cell_type": "code",
   "execution_count": null,
   "id": "715b6ee2",
   "metadata": {
    "vscode": {
     "languageId": "plaintext"
    }
   },
   "outputs": [],
   "source": []
  },
  {
   "cell_type": "markdown",
   "id": "baf7ffd5",
   "metadata": {},
   "source": [
    "\n",
    "#### Small report (10%)\n",
    "Write a __report__ method for the class.\n",
    "1. The method receives an argument __column__ with default value of 'High'.\n",
    "1. The _method_ should __print__ the output of the _method_ of class attribute __df__ that describes statistical properties of the pandas dataframe.\n",
    "1. The method should plot the data of the chosen column. The y axis label should be the chosen column and the legend should be the attribute __label__.\n",
    "1. Write a one line docstring to describe what the method does.\n",
    "\n"
   ]
  },
  {
   "cell_type": "code",
   "execution_count": null,
   "id": "068de9b4",
   "metadata": {
    "vscode": {
     "languageId": "plaintext"
    }
   },
   "outputs": [],
   "source": []
  },
  {
   "cell_type": "markdown",
   "id": "225a683f",
   "metadata": {},
   "source": [
    "#### Trim (20%)\n",
    "Write a __trim__ method to filter out unwanted data.\n",
    "1. The method should have a __start_date__ argument with a default value of \"2011-01-01\".\n",
    "1. The method should have an __end_date__ argument with a default value of \"2017-01-01\".\n",
    "1. If __start_date__ or __end_date__ are not of type string, raise a TypeError with message \"Both temporal arguments must be strings\".\n",
    "1. If __start_date__ or __end_date__ don't have a length of 10, raise an Exception with message \"Both arguments must have length 10.\"\n",
    "1. If you try to convert __start_date__ to a temporal format and you fail, raise an Exception with message \"Can't convert start_date to temporal format\"\n",
    "1. If you try to convert __end_date__ to a temporal format and you fail, raise an Exception with message \"Can't convert end_date to temporal format\"\n",
    "1. Change the dataframe so it now only has data between start_date and end_date, inclusively.\n",
    "1. Change the __trimmed__ attribute to True (I told you).\n",
    "1. Write a one line docstring for the method.\n",
    "---\n"
   ]
  },
  {
   "cell_type": "code",
   "execution_count": null,
   "id": "14da7716",
   "metadata": {
    "vscode": {
     "languageId": "plaintext"
    }
   },
   "outputs": [],
   "source": []
  },
  {
   "cell_type": "markdown",
   "id": "c1cded15",
   "metadata": {},
   "source": [
    "### Reading data (20%)\n",
    "1. Create a __ca__ instance of Stockgo. It should read the Albemerle file and have the right __directives__ argument. Use _ALBE_ for label.\n",
    "1. Create a __ct__ instance of Stockgo. It should read the Tesla file and have the right __directives__ argument. Use _TSLA_ for label.\n",
    "1. Trim() both objects with default arguments.\n",
    "1. Use the report method for both objects:\n",
    "    1. Which stock has a higher 'Open' mean?\n",
    "    1. Which stock has a higher 'Open' 25% percentile?\n",
    "    \n",
    "You now have your objects ready. Let's do a small analysis of the data.\n",
    "---\n"
   ]
  },
  {
   "cell_type": "code",
   "execution_count": null,
   "id": "ff52d020",
   "metadata": {
    "vscode": {
     "languageId": "plaintext"
    }
   },
   "outputs": [],
   "source": []
  },
  {
   "cell_type": "markdown",
   "id": "0150a535",
   "metadata": {},
   "source": [
    "### Analysis (10%)\n",
    "We want to check how the intraday __Highest__ stock value has evolved with TSLA ans ALBE. Many products produced by TSLA are dependent on Lithium price, a commodity ALBE produces. In a simple economic model, TSLA stock should be high if Lithium prices are low, as margins increase. Technology firms are incredibly susceptible to commodity price increases. However, if commodity prices increase, ALBE will tend to be traded at a higher value. This could decerase TSLA value, as margins decrease (again, this is a very simplistic interpretation just for the sake of this simple analysis).\n",
    "\n",
    "<div style=\"padding: 15px; border: 1px solid transparent; border-color: transparent; margin-bottom: 20px; border-radius: 4px; color: #FFFFFF; background-color: #00BB00; border-color: #ebccd1;\">\n",
    "It is safe to ingore warnings from scikit-learn for this exercise.\n",
    "</div>\n",
    "\n",
    "1. Make a scatter plot of the __High__ values of ca(x-axis) and ct(y-axis). How many clusters of points does there seem to be? \n",
    "1. Let's use an unsupervised clustering algorithm to help us out. After reading the documentation for [scikit-learn](https://scikit-learn.org/stable/modules/clustering.html), you decide to go for [Spectral Clustering](https://scikit-learn.org/stable/modules/clustering.html#spectral-clustering).\n",
    "1. Declare an __X__ variable that will be used for the clustering exercise. After reading the documentation you realize you need to vertically stack the values of __ca__ and __ct__ you are analysing and then transpose them.\n",
    "1. Declare a variable __scl__ where you will .fit(X) to SpectralClustering with __affinity=\"nearest_neighbors\", n_clusters=__ the number you decided. The variable __scl__ has an attribute called __labels\\___ which keep the info for the clusters.\n",
    "1. Do a scatter plot of ca and ct like in point 1, but use __c=scl.labels\\___.\n",
    "1. Do a scatter plot of ca and ct over time, but now the x-axis is Date (ca.df.index) and the y-axis is the 'High' column. Again, use __c=scl.labels\\___ for each line.\n",
    "1. Finally, what happens when ALBE stock goes above a certain threshold (meaning Lithium prices probably went above a certain price)?\n",
    "\n",
    "<div style=\"padding: 15px; border: 1px solid transparent; border-color: transparent; margin-bottom: 20px; border-radius: 4px; color: #FFFFFF; background-color: #DD0000; border-color: #ebccd1;\">\n",
    "Read everything carefully!\n",
    "</div>"
   ]
  }
 ],
 "metadata": {
  "kernelspec": {
   "display_name": "Python 3 (ipykernel)",
   "language": "python",
   "name": "python3"
  },
  "language_info": {
   "codemirror_mode": {
    "name": "ipython",
    "version": 3
   },
   "file_extension": ".py",
   "mimetype": "text/x-python",
   "name": "python",
   "nbconvert_exporter": "python",
   "pygments_lexer": "ipython3",
   "version": "3.10.9"
  }
 },
 "nbformat": 4,
 "nbformat_minor": 5
}
