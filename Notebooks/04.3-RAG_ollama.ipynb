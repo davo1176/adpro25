{
 "cells": [
  {
   "cell_type": "markdown",
   "metadata": {},
   "source": [
    "# 04.3 - Retrieval-Augmented Generation using Ollama (local LLM)"
   ]
  },
  {
   "cell_type": "code",
   "execution_count": 3,
   "metadata": {},
   "outputs": [
    {
     "data": {
      "text/plain": [
       "<haystack.core.pipeline.pipeline.Pipeline object at 0x000001D551C55F90>\n",
       "🚅 Components\n",
       "  - retriever: InMemoryBM25Retriever\n",
       "  - prompt_builder: PromptBuilder\n",
       "  - llm: OllamaGenerator\n",
       "🛤️ Connections\n",
       "  - retriever.documents -> prompt_builder.documents (List[Document])\n",
       "  - prompt_builder.prompt -> llm.prompt (str)"
      ]
     },
     "execution_count": 3,
     "metadata": {},
     "output_type": "execute_result"
    }
   ],
   "source": [
    "from haystack import Document, Pipeline\n",
    "from haystack.components.builders.prompt_builder import PromptBuilder\n",
    "from haystack.components.retrievers.in_memory import InMemoryBM25Retriever\n",
    "from haystack.document_stores.in_memory import InMemoryDocumentStore\n",
    "\n",
    "from haystack_integrations.components.generators.ollama import OllamaGenerator\n",
    "\n",
    "document_store = InMemoryDocumentStore()\n",
    "document_store.write_documents(\n",
    "    [\n",
    "        Document(content=\"Super Mario was an important politician\"),\n",
    "        Document(content=\"Mario owns several castles and uses them to conduct important political business\"),\n",
    "        Document(\n",
    "            content=\"Super Mario was a successful military leader who fought off several invasion attempts by \"\n",
    "            \"his arch rival - Bowser\"\n",
    "        ),\n",
    "    ]\n",
    ")\n",
    "\n",
    "template = \"\"\"\n",
    "Given only the following information, answer the question.\n",
    "Ignore your own knowledge.\n",
    "\n",
    "Context:\n",
    "{% for document in documents %}\n",
    "    {{ document.content }}\n",
    "{% endfor %}\n",
    "\n",
    "Question: {{ query }}?\n",
    "\"\"\"\n",
    "\n",
    "pipe = Pipeline()\n",
    "\n",
    "pipe.add_component(\"retriever\", InMemoryBM25Retriever(document_store=document_store))\n",
    "pipe.add_component(\"prompt_builder\", PromptBuilder(template=template))\n",
    "pipe.add_component(\"llm\", OllamaGenerator(model=\"deepseek-r1:1.5B\"))# url=\"http://localhost:11434\"))\n",
    "pipe.connect(\"retriever\", \"prompt_builder.documents\")\n",
    "pipe.connect(\"prompt_builder\", \"llm\")\n"
   ]
  },
  {
   "cell_type": "code",
   "execution_count": 4,
   "metadata": {},
   "outputs": [
    {
     "name": "stdout",
     "output_type": "stream",
     "text": [
      "[\"<think>\\nOkay, so I'm trying to figure out who Super Mario is. Let me think through the context given. The context says that Super Mario was a successful military leader who fought off several invasion attempts by his arch rival Bowser. Then it mentions that he was an important politician and Mario owns several castles using them for political business.\\n\\nHmm, I know Mario from the game Super Mario Party, but is there another person with similar characteristics? Let me break down each part:\\n\\n1. Military leader fighting Bowser: That sounds like someone who was involved in warfare or military conflicts.\\n2. Important politician: So he's a politician too, which adds to his role as an influential figure.\\n3. Owns castles for political business: This implies he manages territories and uses them strategically.\\n\\nWait, but isn't there another well-known character with similar traits? Oh yeah, Mario from the game. He was a successful military leader, fought against Bowser, and was involved in politics. So that fits all the given information.\\n\\nI don't recall any other prominent characters like that. So it must be the Super Mario from the game.\\n</think>\\n\\nSuper Mario is the character featured in the video game Super Mario Party. He was a successful military leader who fought off several invasion attempts by his arch rival, Bowser. Additionally, he was an important politician and used his domain to conduct political business, owning castles for strategic operations. Therefore, the answer is:\\n\\n**Super Mario (The Video Game)**\"]\n"
     ]
    }
   ],
   "source": [
    "\n",
    "query = \"Who is Super Mario?\"\n",
    "\n",
    "response = pipe.run({\"prompt_builder\": {\"query\": query}, \"retriever\": {\"query\": query}})\n",
    "\n",
    "print(response[\"llm\"][\"replies\"])\n"
   ]
  }
 ],
 "metadata": {
  "kernelspec": {
   "display_name": "llm",
   "language": "python",
   "name": "python3"
  },
  "language_info": {
   "codemirror_mode": {
    "name": "ipython",
    "version": 3
   },
   "file_extension": ".py",
   "mimetype": "text/x-python",
   "name": "python",
   "nbconvert_exporter": "python",
   "pygments_lexer": "ipython3",
   "version": "3.11.11"
  }
 },
 "nbformat": 4,
 "nbformat_minor": 2
}
