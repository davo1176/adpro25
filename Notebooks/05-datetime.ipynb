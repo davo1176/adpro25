{
 "cells": [
  {
   "cell_type": "markdown",
   "metadata": {},
   "source": [
    "# 05 Time series Analysis\n",
    "\n",
    "If you understand the trends of a business, you can identify its faults and plan for improvements.\n",
    "\n",
    "The analysis and understanding of time series is an important skill.\n",
    "\n",
    "However we must understand first how to utilize python's native date and time module, __datetime__."
   ]
  },
  {
   "cell_type": "markdown",
   "metadata": {},
   "source": [
    "## The datetime module\n",
    "\n",
    "Our calendar is hard to translate into python code. Leap years, leap seconds, weekends, days of the week are concepts we are familiar with, because it is part of our culture. However, programmatically, we have a linear notion of time. Fortunately, everything we need to analyse temporal trends is present in the datetime module (python standard).\n",
    "\n",
    "With business trends, you have to remember three things when analysing data:\n",
    "\n",
    "1. The human being is a creature of habits.\n",
    "1. [The Law of large numbers](https://en.wikipedia.org/wiki/Law_of_large_numbers) tells us that with enough data points you will see results approximating its expected value. Events with low probability will start to show up in your data, and events with high probability will beahve as expected.\n",
    "1. Disruptive events destroy 1 and 2.\n",
    "\n",
    "In some business models, the glue that holds an analysis or model together is the ability to consistently track the passage of time, independently of where you are in the world (timezone)."
   ]
  },
  {
   "cell_type": "code",
   "execution_count": null,
   "metadata": {},
   "outputs": [],
   "source": [
    "import datetime\n",
    "dir(datetime)"
   ]
  },
  {
   "cell_type": "markdown",
   "metadata": {},
   "source": [
    "Notice the date, time, datetime and timedelta classes:\n",
    "\n",
    "* __date__ was python's original class to handle days (calendar)\n",
    "* __time__ was python's original class to handle time (hours, minutes, seconds, ms, etc...)\n",
    "* __datetime__ is the amalgamation of the prvious classes. It now holds everything needed to represent temporal informaiton.\n",
    "* __timedelta__ is a special class to perform temporal additions and subtractions."
   ]
  },
  {
   "cell_type": "code",
   "execution_count": null,
   "metadata": {},
   "outputs": [],
   "source": [
    "help(datetime)"
   ]
  },
  {
   "cell_type": "markdown",
   "metadata": {},
   "source": [
    "[Launch date of the best music album of all time](https://en.wikipedia.org/wiki/Second_Toughest_in_the_Infants)"
   ]
  },
  {
   "cell_type": "code",
   "execution_count": null,
   "metadata": {},
   "outputs": [],
   "source": [
    "sci = datetime.datetime(1996, 3, 11)"
   ]
  },
  {
   "cell_type": "code",
   "execution_count": null,
   "metadata": {},
   "outputs": [],
   "source": [
    "sci"
   ]
  },
  {
   "cell_type": "code",
   "execution_count": null,
   "metadata": {},
   "outputs": [],
   "source": [
    "print(sci)"
   ]
  },
  {
   "cell_type": "code",
   "execution_count": null,
   "metadata": {},
   "outputs": [],
   "source": [
    "print(sci.day, sci.year, sci.month)"
   ]
  },
  {
   "cell_type": "code",
   "execution_count": null,
   "metadata": {},
   "outputs": [],
   "source": [
    "sci.weekday() #0 -> Monday, 6 -> Sunday"
   ]
  },
  {
   "cell_type": "markdown",
   "metadata": {},
   "source": [
    "<div class=\"alert alert-info\"> \n",
    "    <br>\n",
    "    <b>Exercise: In which day of the week were you born?</b>   \n",
    "    <br>\n",
    "    <br>\n",
    "</div>"
   ]
  },
  {
   "cell_type": "code",
   "execution_count": null,
   "metadata": {},
   "outputs": [],
   "source": [
    "bday = datetime.datetime(2022, 2, 13)\n",
    "bday.weekday()"
   ]
  },
  {
   "cell_type": "markdown",
   "metadata": {},
   "source": [
    "---"
   ]
  },
  {
   "cell_type": "markdown",
   "metadata": {},
   "source": [
    "## Format, format, FORMAT\n",
    "\n",
    "A datetime value can have many representations. Remember that different parts of the world use the calendar in a different manner.\n",
    "\n",
    "By default, datetimes are printed __yyyy-mm-dd hh:mm:ss__\n",
    "\n",
    "If you start your file names with such a format, chronological order will match alphabetical order, releasing you from some overhead for organisation.\n",
    "\n",
    "__IMPORTANT__: the datetime object stores the information at all time. The format is just a way of printing the datetime object information."
   ]
  },
  {
   "cell_type": "code",
   "execution_count": null,
   "metadata": {},
   "outputs": [],
   "source": [
    "sci.strftime(format=\"%y-%m\")"
   ]
  },
  {
   "cell_type": "code",
   "execution_count": null,
   "metadata": {},
   "outputs": [],
   "source": [
    "sci.strftime(format=\"In %Y during %B, SCI was released on a %A\")"
   ]
  },
  {
   "cell_type": "markdown",
   "metadata": {},
   "source": [
    "[Please check the __directives__ here](https://docs.python.org/3/library/datetime.html)\n",
    "\n",
    "__Results may vary due to \"locale\"__!"
   ]
  },
  {
   "cell_type": "markdown",
   "metadata": {},
   "source": [
    "<div class=\"alert alert-info\"> \n",
    "    <br>\n",
    "    <b>Exercise: Write a small output for a special date with strftime. Something like \"On August 6, 2005, I saw Underworld and Fatboy Slim at Sudoeste\".</b>   \n",
    "    <br>\n",
    "    <br>\n",
    "</div>"
   ]
  },
  {
   "cell_type": "markdown",
   "metadata": {},
   "source": [
    "---"
   ]
  },
  {
   "cell_type": "markdown",
   "metadata": {},
   "source": [
    "## Right about now"
   ]
  },
  {
   "cell_type": "markdown",
   "metadata": {},
   "source": [
    "What day is today?"
   ]
  },
  {
   "cell_type": "code",
   "execution_count": null,
   "metadata": {},
   "outputs": [],
   "source": [
    "import datetime\n",
    "\n",
    "sci = datetime.datetime(1996, 3, 11)"
   ]
  },
  {
   "cell_type": "code",
   "execution_count": null,
   "metadata": {},
   "outputs": [],
   "source": [
    "datetime.datetime.now()"
   ]
  },
  {
   "cell_type": "code",
   "execution_count": null,
   "metadata": {},
   "outputs": [],
   "source": [
    "datetime.datetime.now().strftime(format=\"Today is %A.\")"
   ]
  },
  {
   "cell_type": "markdown",
   "metadata": {},
   "source": [
    "The ```now``` method allows you to read computer time and create objects with information about \"where in time\" your code is running. How long ago was the music album released?"
   ]
  },
  {
   "cell_type": "code",
   "execution_count": null,
   "metadata": {},
   "outputs": [],
   "source": [
    "datetime.datetime.now() + sci"
   ]
  },
  {
   "cell_type": "markdown",
   "metadata": {},
   "source": [
    "You can __subtract__ datetime objects. When you perform a subtraction on __datetime__ objects you obtain a __timedelta__ object. However, __additions__ are not defined."
   ]
  },
  {
   "cell_type": "markdown",
   "metadata": {},
   "source": [
    "<div class=\"alert alert-info\"> \n",
    "    <br>\n",
    "    <b>Exercise: How old are you in days?</b>   \n",
    "    <br>\n",
    "    <br>\n",
    "</div>"
   ]
  },
  {
   "cell_type": "code",
   "execution_count": null,
   "metadata": {},
   "outputs": [],
   "source": [
    "datetime.datetime.now() - datetime.datetime(2000, 1, 1)"
   ]
  },
  {
   "cell_type": "markdown",
   "metadata": {},
   "source": [
    "---"
   ]
  },
  {
   "cell_type": "markdown",
   "metadata": {},
   "source": [
    "## The timedelta object\n",
    "\n",
    "Due to the culture we live in, time has become something so ingrained in our lines of thought we may find it hard to convert it into computer code.\n",
    "\n",
    "If it's January 31st, in 10 days it will not be January 41st. If it's 23:00, in two hours it will already be a new day, but probably not in some other time zones.\n",
    "\n",
    "When you define a timedelta object, you need to specify the interval."
   ]
  },
  {
   "cell_type": "code",
   "execution_count": null,
   "metadata": {},
   "outputs": [],
   "source": [
    "wk_interval = datetime.timedelta(days=7)"
   ]
  },
  {
   "cell_type": "code",
   "execution_count": null,
   "metadata": {},
   "outputs": [],
   "source": [
    "today = datetime.datetime.now()"
   ]
  },
  {
   "cell_type": "code",
   "execution_count": null,
   "metadata": {},
   "outputs": [],
   "source": [
    "today - wk_interval"
   ]
  },
  {
   "cell_type": "code",
   "execution_count": null,
   "metadata": {},
   "outputs": [],
   "source": [
    "today + wk_interval"
   ]
  },
  {
   "cell_type": "code",
   "execution_count": null,
   "metadata": {},
   "outputs": [],
   "source": [
    "hour_interval = datetime.timedelta(hours=1)\n",
    "hour_interval"
   ]
  },
  {
   "cell_type": "code",
   "execution_count": null,
   "metadata": {},
   "outputs": [],
   "source": [
    "wk_interval + hour_interval"
   ]
  },
  {
   "cell_type": "markdown",
   "metadata": {},
   "source": [
    "In short:\n",
    "\n",
    "| Object 1 | Object 2 | Result of subtraction | Result of addition|\n",
    "|---|---|---|---|\n",
    "| datetime | datetime | timedelta | not defined |\n",
    "| datetime | timedelta | datetime | datetime |\n",
    "| timedelta | timedelta | timedelta | timedelta |\n",
    "\n",
    "__Remember__: You can't add January 2nd to February 8th. __Also__, the _timedelta_ object does not have the same methods as datetime. In fact, it has very little support."
   ]
  },
  {
   "cell_type": "markdown",
   "metadata": {},
   "source": [
    "<div class=\"alert alert-info\"> \n",
    "    <br>\n",
    "    <b>In 137 days from now, what day of the week is it going to be?</b>   \n",
    "    <br>\n",
    "    <br>\n",
    "</div>"
   ]
  },
  {
   "cell_type": "code",
   "execution_count": null,
   "metadata": {},
   "outputs": [],
   "source": [
    "datetime.datetime.now() + datetime.timedelta(days=137)"
   ]
  },
  {
   "cell_type": "markdown",
   "metadata": {},
   "source": [
    "---"
   ]
  },
  {
   "cell_type": "markdown",
   "metadata": {},
   "source": [
    "## Why does this matters?\n",
    "\n",
    "Most data warehouses at a company's data lake could be managed by teams from different subcontractors. The different teams may have different standards when it comes to store chronological information. Let's assume we have two KPIs we want to monitor, from two different tables. The first is the revenue of online sales for the ficticional mobile app __Astronomy (A)__ and the second is the revenue of online sales for the also ficticional mobile app __Barbecuer (B)__ (files are in the '../Files/' directory). You know the sales figures are related to the same time period."
   ]
  },
  {
   "cell_type": "code",
   "execution_count": null,
   "metadata": {},
   "outputs": [],
   "source": [
    "import pandas as pd\n",
    "import numpy as np\n",
    "import matplotlib.pyplot as plt"
   ]
  },
  {
   "cell_type": "markdown",
   "metadata": {},
   "source": [
    "#### Astronomy"
   ]
  },
  {
   "cell_type": "code",
   "execution_count": null,
   "metadata": {},
   "outputs": [],
   "source": [
    "astro = pd.read_csv('../Files/Astronomy_sales.csv')"
   ]
  },
  {
   "cell_type": "code",
   "execution_count": null,
   "metadata": {},
   "outputs": [],
   "source": [
    "astro.head()"
   ]
  },
  {
   "cell_type": "code",
   "execution_count": null,
   "metadata": {},
   "outputs": [],
   "source": [
    "astro.plot(x='date', y='sales', figsize=(15,6))\n",
    "plt.show()"
   ]
  },
  {
   "cell_type": "code",
   "execution_count": null,
   "metadata": {
    "tags": []
   },
   "outputs": [],
   "source": [
    "astro.dtypes"
   ]
  },
  {
   "cell_type": "markdown",
   "metadata": {
    "tags": []
   },
   "source": [
    "__The dates are not in order!__ We are just plotting the values by the order they are stored in the file. Let's convert the \"dates\" column to datetime via pandas:"
   ]
  },
  {
   "cell_type": "code",
   "execution_count": null,
   "metadata": {
    "tags": []
   },
   "outputs": [],
   "source": [
    "astro['date'] = pd.to_datetime(astro['date'])"
   ]
  },
  {
   "cell_type": "code",
   "execution_count": null,
   "metadata": {},
   "outputs": [],
   "source": [
    "astro.plot(x='date', y='sales', figsize=(15,6))\n",
    "plt.show()"
   ]
  },
  {
   "cell_type": "markdown",
   "metadata": {},
   "source": [
    "If you pass a datetime object to pandas, pandas knows under the hood how to handle it. For instance, in plots, it automatically organises your time column in a chronological fashion."
   ]
  },
  {
   "cell_type": "code",
   "execution_count": null,
   "metadata": {},
   "outputs": [],
   "source": [
    "astro.dtypes"
   ]
  },
  {
   "cell_type": "markdown",
   "metadata": {},
   "source": [
    "#### Barbecuer\n",
    "\n",
    "The __Barbecuer__ table is handled by another Data Engineering team. Lets see how they stored it."
   ]
  },
  {
   "cell_type": "code",
   "execution_count": null,
   "metadata": {},
   "outputs": [],
   "source": [
    "barb = pd.read_csv('../Files/Barbecuer_sales.csv')"
   ]
  },
  {
   "cell_type": "code",
   "execution_count": null,
   "metadata": {},
   "outputs": [],
   "source": [
    "barb.head()"
   ]
  },
  {
   "cell_type": "code",
   "execution_count": null,
   "metadata": {},
   "outputs": [],
   "source": [
    "barb.dtypes"
   ]
  },
  {
   "cell_type": "code",
   "execution_count": null,
   "metadata": {},
   "outputs": [],
   "source": [
    "barb.plot(x='date', y='sales', figsize=(15,6))\n",
    "plt.show()"
   ]
  },
  {
   "cell_type": "markdown",
   "metadata": {},
   "source": [
    "What are we plotting now?"
   ]
  },
  {
   "cell_type": "code",
   "execution_count": null,
   "metadata": {},
   "outputs": [],
   "source": [
    "barb['date'] = pd.to_datetime(barb['date'])"
   ]
  },
  {
   "cell_type": "code",
   "execution_count": null,
   "metadata": {},
   "outputs": [],
   "source": [
    "barb.plot(x='date', y='sales', figsize=(15,6))\n",
    "plt.show()"
   ]
  },
  {
   "cell_type": "code",
   "execution_count": null,
   "metadata": {},
   "outputs": [],
   "source": [
    "barb.head()"
   ]
  },
  {
   "cell_type": "markdown",
   "metadata": {},
   "source": [
    "We know for sure that we are not monitoring data for a mobile app in 1970!\n",
    "\n",
    "Whilst __to\\_datetime__ is very smart at inferring your time format, it will become apparent it does not cover every situation. Let's restart the Barbecuer app analysis."
   ]
  },
  {
   "cell_type": "code",
   "execution_count": null,
   "metadata": {},
   "outputs": [],
   "source": [
    "barb = pd.read_csv('../Files/Barbecuer_sales.csv')\n",
    "barb.head(10)"
   ]
  },
  {
   "cell_type": "markdown",
   "metadata": {},
   "source": [
    "<div class=\"alert alert-info\"> \n",
    "    <br>\n",
    "    <b>Exercise: We know this interval is for the first days of January 2024. Can you infer the datetime format?</b>   \n",
    "    <br>\n",
    "    <br>\n",
    "</div>"
   ]
  },
  {
   "cell_type": "code",
   "execution_count": null,
   "metadata": {},
   "outputs": [],
   "source": [
    "barb['date'] = pd.to_datetime(barb['date'], format='%y%m%d%H')"
   ]
  },
  {
   "cell_type": "code",
   "execution_count": null,
   "metadata": {},
   "outputs": [],
   "source": [
    "barb.plot(x='date', y='sales', figsize=(15,6))\n",
    "plt.show()"
   ]
  },
  {
   "cell_type": "code",
   "execution_count": null,
   "metadata": {},
   "outputs": [],
   "source": [
    "fig, ax = plt.subplots(figsize=(15,6))\n",
    "\n",
    "astro.plot(x='date', y='sales', ax=ax, label='Astronomy')\n",
    "barb.plot(x='date', y='sales', ax=ax, label='Barbecuer')\n",
    "\n",
    "plt.show()"
   ]
  },
  {
   "cell_type": "markdown",
   "metadata": {},
   "source": [
    "<div class=\"alert alert-info\"> \n",
    "    <br>\n",
    "    <b>Exercise: A third app, Cacophony, was released just before the new year. How is it doing compared with the other apps?</b>   \n",
    "    <br>\n",
    "    <br>\n",
    "</div>"
   ]
  },
  {
   "cell_type": "code",
   "execution_count": null,
   "metadata": {},
   "outputs": [],
   "source": [
    "# %load ../Files/cacophony.py"
   ]
  }
 ],
 "metadata": {
  "kernelspec": {
   "display_name": "Python 3 (ipykernel)",
   "language": "python",
   "name": "python3"
  },
  "language_info": {
   "codemirror_mode": {
    "name": "ipython",
    "version": 3
   },
   "file_extension": ".py",
   "mimetype": "text/x-python",
   "name": "python",
   "nbconvert_exporter": "python",
   "pygments_lexer": "ipython3",
   "version": "3.11.7"
  }
 },
 "nbformat": 4,
 "nbformat_minor": 4
}
