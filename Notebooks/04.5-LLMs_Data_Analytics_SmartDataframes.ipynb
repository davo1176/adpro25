{
 "cells": [
  {
   "cell_type": "markdown",
   "id": "ecb71496-65bf-465e-bc02-163ddd8c442d",
   "metadata": {},
   "source": [
    "# 04.5 - LLMs integrated in data analytics and data visualization: PandaAI\n",
    "\n",
    "https://github.com/sinaptik-ai/pandas-ai\n",
    "\n",
    "## Combining a familiar framework with LLMs\n",
    "\n",
    "LLM can help data visualization tasks in different ways:  \n",
    "* They can read tables and help us understand the data by creating written summaries  \n",
    "* They can translate our ideas of visualizations from english to code, accelerating the development process  \n"
   ]
  },
  {
   "cell_type": "code",
   "execution_count": 1,
   "id": "5a037018",
   "metadata": {},
   "outputs": [],
   "source": [
    "import pandasai as pai\n",
    "import os\n",
    "\n",
    "# Sample DataFrame\n",
    "df = pai.DataFrame({\n",
    "    \"country\": [\"United States\", \"United Kingdom\", \"France\", \"Germany\", \"Italy\", \"Spain\", \"Canada\", \"Australia\", \"Japan\", \"China\"],\n",
    "    \"revenue\": [5000, 3200, 2900, 4100, 2300, 2100, 2500, 2600, 4500, 7000]\n",
    "})\n",
    "\n",
    "# By default, unless you choose a different LLM, it will use BambooLLM.\n",
    "# You can get your free API key signing up at https://app.pandabi.ai (you can also configure it in your .env file)\n",
    "\n",
    "pai.api_key.set(os.environ['PAI_API_KEY'])\n"
   ]
  },
  {
   "cell_type": "code",
   "execution_count": 4,
   "id": "f2ce9d63",
   "metadata": {},
   "outputs": [
    {
     "data": {
      "text/html": [
       "<div>\n",
       "<style scoped>\n",
       "    .dataframe tbody tr th:only-of-type {\n",
       "        vertical-align: middle;\n",
       "    }\n",
       "\n",
       "    .dataframe tbody tr th {\n",
       "        vertical-align: top;\n",
       "    }\n",
       "\n",
       "    .dataframe thead th {\n",
       "        text-align: right;\n",
       "    }\n",
       "</style>\n",
       "<table border=\"1\" class=\"dataframe\">\n",
       "  <thead>\n",
       "    <tr style=\"text-align: right;\">\n",
       "      <th></th>\n",
       "      <th>country</th>\n",
       "      <th>revenue</th>\n",
       "    </tr>\n",
       "  </thead>\n",
       "  <tbody>\n",
       "    <tr>\n",
       "      <th>0</th>\n",
       "      <td>United States</td>\n",
       "      <td>5000</td>\n",
       "    </tr>\n",
       "    <tr>\n",
       "      <th>1</th>\n",
       "      <td>United Kingdom</td>\n",
       "      <td>3200</td>\n",
       "    </tr>\n",
       "    <tr>\n",
       "      <th>2</th>\n",
       "      <td>France</td>\n",
       "      <td>2900</td>\n",
       "    </tr>\n",
       "    <tr>\n",
       "      <th>3</th>\n",
       "      <td>Germany</td>\n",
       "      <td>4100</td>\n",
       "    </tr>\n",
       "    <tr>\n",
       "      <th>4</th>\n",
       "      <td>Italy</td>\n",
       "      <td>2300</td>\n",
       "    </tr>\n",
       "    <tr>\n",
       "      <th>5</th>\n",
       "      <td>Spain</td>\n",
       "      <td>2100</td>\n",
       "    </tr>\n",
       "    <tr>\n",
       "      <th>6</th>\n",
       "      <td>Canada</td>\n",
       "      <td>2500</td>\n",
       "    </tr>\n",
       "    <tr>\n",
       "      <th>7</th>\n",
       "      <td>Australia</td>\n",
       "      <td>2600</td>\n",
       "    </tr>\n",
       "    <tr>\n",
       "      <th>8</th>\n",
       "      <td>Japan</td>\n",
       "      <td>4500</td>\n",
       "    </tr>\n",
       "    <tr>\n",
       "      <th>9</th>\n",
       "      <td>China</td>\n",
       "      <td>7000</td>\n",
       "    </tr>\n",
       "  </tbody>\n",
       "</table>\n",
       "</div>"
      ],
      "text/plain": [
       "          country  revenue\n",
       "0   United States     5000\n",
       "1  United Kingdom     3200\n",
       "2          France     2900\n",
       "3         Germany     4100\n",
       "4           Italy     2300\n",
       "5           Spain     2100\n",
       "6          Canada     2500\n",
       "7       Australia     2600\n",
       "8           Japan     4500\n",
       "9           China     7000"
      ]
     },
     "execution_count": 4,
     "metadata": {},
     "output_type": "execute_result"
    }
   ],
   "source": [
    "df.head(10)"
   ]
  },
  {
   "cell_type": "code",
   "execution_count": 5,
   "id": "ecad00ae",
   "metadata": {},
   "outputs": [
    {
     "data": {
      "text/plain": [
       "DataFrameResponse(type='dataframe', value=          country  revenue\n",
       "0           China     7000\n",
       "1   United States     5000\n",
       "2           Japan     4500\n",
       "3         Germany     4100\n",
       "4  United Kingdom     3200)"
      ]
     },
     "execution_count": 5,
     "metadata": {},
     "output_type": "execute_result"
    }
   ],
   "source": [
    "# Let's talk with the data\n",
    "df.chat('Which are the top 5 countries by sales?')"
   ]
  },
  {
   "cell_type": "code",
   "execution_count": 6,
   "id": "8a00d373",
   "metadata": {},
   "outputs": [
    {
     "data": {
      "text/plain": [
       "ErrorResponse(type='error', value='Unfortunately, I was not able to get your answer. Please try again.')"
      ]
     },
     "execution_count": 6,
     "metadata": {},
     "output_type": "execute_result"
    },
    {
     "data": {
      "image/png": "[encoded data removed]",
      "text/plain": [
       "<Figure size 1000x600 with 1 Axes>"
      ]
     },
     "metadata": {},
     "output_type": "display_data"
    }
   ],
   "source": [
    "\n",
    "df.chat('Plot a bar chart with the sales by country')"
   ]
  },
  {
   "cell_type": "code",
   "execution_count": null,
   "id": "f505d912",
   "metadata": {},
   "outputs": [],
   "source": []
  }
 ],
 "metadata": {
  "kernelspec": {
   "display_name": "llm",
   "language": "python",
   "name": "python3"
  },
  "language_info": {
   "codemirror_mode": {
    "name": "ipython",
    "version": 3
   },
   "file_extension": ".py",
   "mimetype": "text/x-python",
   "name": "python",
   "nbconvert_exporter": "python",
   "pygments_lexer": "ipython3",
   "version": "3.11.11"
  }
 },
 "nbformat": 4,
 "nbformat_minor": 5
}
