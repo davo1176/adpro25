{
 "cells": [
  {
   "cell_type": "markdown",
   "metadata": {},
   "source": [
    "## First steps in Building your own Documentation: Docstrings\n",
    "\n",
    "As we have previously seen, code follows a style guide. Docstrings also follow a convention, namely, __PEP257__, which you can see [here](https://www.python.org/dev/peps/pep-0257/).\n",
    "\n",
    "In this demo and over this course, we will use the [numpy docstring style](https://numpydoc.readthedocs.io/en/latest/format.html).\n",
    "\n",
    "Let's build a function step by step, to show the importance of documentation. A little documentation can guide you a long way."
   ]
  },
  {
   "cell_type": "code",
   "execution_count": 1,
   "metadata": {},
   "outputs": [],
   "source": [
    "def my_func(my_var=1, my_text='Blah!'):\n",
    "    return my_var * my_text"
   ]
  },
  {
   "cell_type": "code",
   "execution_count": 4,
   "metadata": {},
   "outputs": [
    {
     "data": {
      "text/plain": [
       "'Blah!Blah!Blah!'"
      ]
     },
     "execution_count": 4,
     "metadata": {},
     "output_type": "execute_result"
    }
   ],
   "source": [
    "my_func(3)"
   ]
  },
  {
   "cell_type": "markdown",
   "metadata": {},
   "source": [
    "<div class=\"alert alert-info\"> \n",
    "    <br>\n",
    "    <b>Discuss: What is `my_func` supopsed to do? Replicate a text? Perform the product between two numbers?</b>   \n",
    "    <br>\n",
    "    <br>\n",
    "</div>"
   ]
  },
  {
   "cell_type": "markdown",
   "metadata": {},
   "source": [
    "We never specified what the function should do. There is no defined usage for the function."
   ]
  },
  {
   "cell_type": "code",
   "execution_count": 5,
   "metadata": {},
   "outputs": [
    {
     "data": {
      "text/plain": [
       "6"
      ]
     },
     "execution_count": 5,
     "metadata": {},
     "output_type": "execute_result"
    }
   ],
   "source": [
    "my_func(2, 3)"
   ]
  },
  {
   "cell_type": "code",
   "execution_count": 6,
   "metadata": {},
   "outputs": [
    {
     "data": {
      "text/plain": [
       "20"
      ]
     },
     "execution_count": 6,
     "metadata": {},
     "output_type": "execute_result"
    }
   ],
   "source": [
    "my_func(my_var=4, my_text=5)"
   ]
  },
  {
   "cell_type": "code",
   "execution_count": 7,
   "metadata": {},
   "outputs": [],
   "source": [
    "def my_func(my_var=1, my_text='Blah!'):\n",
    "    \"\"\"Replicates a string assigned in 'my_text' a number of\n",
    "    times assigned in 'my_var'.\n",
    "    \"\"\"\n",
    "    return my_var * my_text"
   ]
  },
  {
   "cell_type": "code",
   "execution_count": 8,
   "metadata": {},
   "outputs": [
    {
     "data": {
      "text/plain": [
       "6"
      ]
     },
     "execution_count": 8,
     "metadata": {},
     "output_type": "execute_result"
    }
   ],
   "source": [
    "my_func(2, 3)"
   ]
  },
  {
   "cell_type": "code",
   "execution_count": 9,
   "metadata": {},
   "outputs": [
    {
     "ename": "TypeError",
     "evalue": "can't multiply sequence by non-int of type 'float'",
     "output_type": "error",
     "traceback": [
      "\u001b[1;31m---------------------------------------------------------------------------\u001b[0m",
      "\u001b[1;31mTypeError\u001b[0m                                 Traceback (most recent call last)",
      "Cell \u001b[1;32mIn[9], line 1\u001b[0m\n\u001b[1;32m----> 1\u001b[0m my_func(\u001b[38;5;241m2.34\u001b[39m, \u001b[38;5;124m'\u001b[39m\u001b[38;5;124mOops\u001b[39m\u001b[38;5;124m'\u001b[39m)\n",
      "Cell \u001b[1;32mIn[7], line 5\u001b[0m, in \u001b[0;36mmy_func\u001b[1;34m(my_var, my_text)\u001b[0m\n\u001b[0;32m      1\u001b[0m \u001b[38;5;28;01mdef\u001b[39;00m \u001b[38;5;21mmy_func\u001b[39m(my_var\u001b[38;5;241m=\u001b[39m\u001b[38;5;241m1\u001b[39m, my_text\u001b[38;5;241m=\u001b[39m\u001b[38;5;124m'\u001b[39m\u001b[38;5;124mBlah!\u001b[39m\u001b[38;5;124m'\u001b[39m):\n\u001b[0;32m      2\u001b[0m \u001b[38;5;250m    \u001b[39m\u001b[38;5;124;03m\"\"\"Replicates a string assigned in 'my_text' a number of\u001b[39;00m\n\u001b[0;32m      3\u001b[0m \u001b[38;5;124;03m    times assigned in 'my_var'.\u001b[39;00m\n\u001b[0;32m      4\u001b[0m \u001b[38;5;124;03m    \"\"\"\u001b[39;00m\n\u001b[1;32m----> 5\u001b[0m     \u001b[38;5;28;01mreturn\u001b[39;00m my_var \u001b[38;5;241m*\u001b[39m my_text\n",
      "\u001b[1;31mTypeError\u001b[0m: can't multiply sequence by non-int of type 'float'"
     ]
    }
   ],
   "source": [
    "my_func(2.34, 'Oops')"
   ]
  },
  {
   "cell_type": "code",
   "execution_count": 10,
   "metadata": {},
   "outputs": [],
   "source": [
    "def my_func(my_var=1, my_text='Blah!'):\n",
    "    \"\"\"\n",
    "    Replicates a string assigned in 'my_text' a number of times in 'my_var'\n",
    "    \n",
    "    Parameters\n",
    "    ---------------\n",
    "    my_var: int\n",
    "        The number of times to replicate the input string\n",
    "    my_text: string\n",
    "        The string to be replicated\n",
    "        \n",
    "    Returns\n",
    "    ---------------\n",
    "    my_output: string\n",
    "        The 'my_text' string replicated 'my_var' times\n",
    "    \n",
    "    \"\"\"\n",
    "    \n",
    "    my_output = my_var * my_text\n",
    "    \n",
    "    return my_output"
   ]
  },
  {
   "cell_type": "code",
   "execution_count": 11,
   "metadata": {},
   "outputs": [
    {
     "data": {
      "text/plain": [
       "'OopsOops'"
      ]
     },
     "execution_count": 11,
     "metadata": {},
     "output_type": "execute_result"
    }
   ],
   "source": [
    "my_func(2, 'Oops') #press shift tab"
   ]
  },
  {
   "cell_type": "code",
   "execution_count": 12,
   "metadata": {},
   "outputs": [
    {
     "data": {
      "text/plain": [
       "'OopsOops'"
      ]
     },
     "execution_count": 12,
     "metadata": {},
     "output_type": "execute_result"
    }
   ],
   "source": [
    "my_func('Oops', 2)"
   ]
  },
  {
   "cell_type": "code",
   "execution_count": 13,
   "metadata": {},
   "outputs": [
    {
     "data": {
      "text/plain": [
       "'OopsOopsOopsOopsOopsOopsOopsOopsOopsOops'"
      ]
     },
     "execution_count": 13,
     "metadata": {},
     "output_type": "execute_result"
    }
   ],
   "source": [
    "my_func(my_var='Oops', my_text=10)"
   ]
  },
  {
   "cell_type": "markdown",
   "metadata": {},
   "source": [
    "Even with our best documentational efforts, we have not managed to enforce a correct usage of the function. The function can still be used in an unexpected way. When the code does not account for some eventualities, it becomes a matter of **when** it breaks rather than **if** it will break."
   ]
  },
  {
   "cell_type": "code",
   "execution_count": 14,
   "metadata": {},
   "outputs": [
    {
     "ename": "TypeError",
     "evalue": "can't multiply sequence by non-int of type 'str'",
     "output_type": "error",
     "traceback": [
      "\u001b[1;31m---------------------------------------------------------------------------\u001b[0m",
      "\u001b[1;31mTypeError\u001b[0m                                 Traceback (most recent call last)",
      "Cell \u001b[1;32mIn[14], line 1\u001b[0m\n\u001b[1;32m----> 1\u001b[0m my_func(my_var\u001b[38;5;241m=\u001b[39m\u001b[38;5;124m'\u001b[39m\u001b[38;5;124mqua\u001b[39m\u001b[38;5;124m'\u001b[39m, my_text\u001b[38;5;241m=\u001b[39m\u001b[38;5;124m'\u001b[39m\u001b[38;5;124mDuck!\u001b[39m\u001b[38;5;124m'\u001b[39m)\n",
      "Cell \u001b[1;32mIn[10], line 19\u001b[0m, in \u001b[0;36mmy_func\u001b[1;34m(my_var, my_text)\u001b[0m\n\u001b[0;32m      1\u001b[0m \u001b[38;5;28;01mdef\u001b[39;00m \u001b[38;5;21mmy_func\u001b[39m(my_var\u001b[38;5;241m=\u001b[39m\u001b[38;5;241m1\u001b[39m, my_text\u001b[38;5;241m=\u001b[39m\u001b[38;5;124m'\u001b[39m\u001b[38;5;124mBlah!\u001b[39m\u001b[38;5;124m'\u001b[39m):\n\u001b[0;32m      2\u001b[0m \u001b[38;5;250m    \u001b[39m\u001b[38;5;124;03m\"\"\"\u001b[39;00m\n\u001b[0;32m      3\u001b[0m \u001b[38;5;124;03m    Replicates a string assigned in 'my_text' a number of times in 'my_var'\u001b[39;00m\n\u001b[0;32m      4\u001b[0m \u001b[38;5;124;03m    \u001b[39;00m\n\u001b[1;32m   (...)\u001b[0m\n\u001b[0;32m     16\u001b[0m \u001b[38;5;124;03m    \u001b[39;00m\n\u001b[0;32m     17\u001b[0m \u001b[38;5;124;03m    \"\"\"\u001b[39;00m\n\u001b[1;32m---> 19\u001b[0m     my_output \u001b[38;5;241m=\u001b[39m my_var \u001b[38;5;241m*\u001b[39m my_text\n\u001b[0;32m     21\u001b[0m     \u001b[38;5;28;01mreturn\u001b[39;00m my_output\n",
      "\u001b[1;31mTypeError\u001b[0m: can't multiply sequence by non-int of type 'str'"
     ]
    }
   ],
   "source": [
    "my_func(my_var='qua', my_text='Duck!')"
   ]
  },
  {
   "cell_type": "markdown",
   "metadata": {},
   "source": [
    "We tried our best at docummenting a function. How do we document a class?\n",
    "\n",
    "You also add the attributes and methods at the beginning.\n",
    "\n",
    "The \\_\\_init\\_\\_ method is an exception: it should be documented in the class docstring."
   ]
  },
  {
   "cell_type": "markdown",
   "metadata": {},
   "source": [
    "<div class=\"alert alert-info\"> \n",
    "    <br>\n",
    "    <b>Mini-demo: let's build a class \"Animal\" and show you how to docstring it</b>   \n",
    "    <br>\n",
    "    <br>\n",
    "</div>"
   ]
  },
  {
   "cell_type": "code",
   "execution_count": 17,
   "metadata": {},
   "outputs": [],
   "source": [
    "# %load ../Functions/animal.txt\n",
    "class Animal:\n",
    "    \"\"\"\n",
    "    Defines an animal by its name and habilities.\n",
    "    \n",
    "    Attributes\n",
    "    ----------\n",
    "    name: str\n",
    "        Name of the animal\n",
    "    runs: bool\n",
    "        Boolean to check if the animal can run\n",
    "    fly: bool\n",
    "        Boolean to check if the animal can fly\n",
    "               \n",
    "    Methods\n",
    "    --------\n",
    "    whoami()\n",
    "        Prints information about the animal\n",
    "    \"\"\"\n",
    "    def __init__(self, name, runs, flies):\n",
    "        self.name = name\n",
    "        self.runs = runs\n",
    "        self.flies = flies\n",
    "        \n",
    "    def whoami(self):\n",
    "        \"\"\"\n",
    "        Prints information about the animal\n",
    "        \n",
    "        Parameters\n",
    "        -----------\n",
    "        self: class\n",
    "            The Animal class itself\n",
    "            \n",
    "        Returns\n",
    "        --------\n",
    "        Nothing. Prints output to the screen.     \n",
    "        \"\"\"\n",
    "        my_name = f\"I am called {self.name}.\"\n",
    "        \n",
    "        if self.runs:\n",
    "            running = \"I can run.\"\n",
    "        else:\n",
    "            running = \"I can't run.\"\n",
    "            \n",
    "        if self.flies:\n",
    "            flying = \"I can fly.\"\n",
    "        else:\n",
    "            flying = \"I can't fly.\"\n",
    "            \n",
    "        final_analysis = my_name + \" \" + running + \" \" + flying\n",
    "        print(final_analysis)"
   ]
  },
  {
   "cell_type": "code",
   "execution_count": 18,
   "metadata": {},
   "outputs": [],
   "source": [
    "#duck = Animal()\n",
    "dog = Animal(\"dog\", True, False)"
   ]
  },
  {
   "cell_type": "code",
   "execution_count": 19,
   "metadata": {},
   "outputs": [
    {
     "name": "stdout",
     "output_type": "stream",
     "text": [
      "I am called dog. I can run. I can't fly.\n"
     ]
    }
   ],
   "source": [
    "dog.whoami()"
   ]
  },
  {
   "cell_type": "markdown",
   "metadata": {},
   "source": [
    "---"
   ]
  },
  {
   "cell_type": "markdown",
   "metadata": {},
   "source": [
    "<div class=\"alert alert-info\"> \n",
    "    <br>\n",
    "    <b>Exercise: Create a simple function with a docstring in a .py file. Run pylint on it. What is the message about docstrings?</b>   \n",
    "    <br>\n",
    "    <br>\n",
    "</div>"
   ]
  },
  {
   "cell_type": "code",
   "execution_count": 20,
   "metadata": {},
   "outputs": [
    {
     "data": {
      "text/plain": [
       "'C:\\\\Users\\\\luisg\\\\Documents\\\\adpro2024\\\\Notebooks'"
      ]
     },
     "execution_count": 20,
     "metadata": {},
     "output_type": "execute_result"
    }
   ],
   "source": [
    "pwd"
   ]
  },
  {
   "cell_type": "markdown",
   "metadata": {},
   "source": [
    "---"
   ]
  },
  {
   "cell_type": "markdown",
   "metadata": {},
   "source": [
    "[Let's continue on the next notebook.](02.2-EnforcingVariableTypes.ipynb)"
   ]
  }
 ],
 "metadata": {
  "kernelspec": {
   "display_name": "Python 3 (ipykernel)",
   "language": "python",
   "name": "python3"
  },
  "language_info": {
   "codemirror_mode": {
    "name": "ipython",
    "version": 3
   },
   "file_extension": ".py",
   "mimetype": "text/x-python",
   "name": "python",
   "nbconvert_exporter": "python",
   "pygments_lexer": "ipython3",
   "version": "3.11.7"
  }
 },
 "nbformat": 4,
 "nbformat_minor": 4
}
