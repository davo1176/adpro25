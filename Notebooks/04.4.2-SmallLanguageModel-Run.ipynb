{
 "cells": [
  {
   "cell_type": "markdown",
   "id": "03a75ab8-9317-42e5-bd0b-93e03985f5fa",
   "metadata": {},
   "source": [
    "# 04.2.2 - Virtual Environment Exercise part 2: Run your own Small Language Model\n"
   ]
  },
  {
   "cell_type": "code",
   "execution_count": 1,
   "id": "ab5cf6d4-9e86-4f1d-ad69-7127d81d709e",
   "metadata": {},
   "outputs": [
    {
     "name": "stdout",
     "output_type": "stream",
     "text": [
      "WARNING:tensorflow:From C:\\Users\\luisg\\anaconda3\\envs\\tensorflow\\Lib\\site-packages\\keras\\src\\losses.py:2976: The name tf.losses.sparse_softmax_cross_entropy is deprecated. Please use tf.compat.v1.losses.sparse_softmax_cross_entropy instead.\n",
      "\n"
     ]
    }
   ],
   "source": [
    "import tensorflow as tf"
   ]
  },
  {
   "cell_type": "code",
   "execution_count": 2,
   "id": "b2d65129-279d-4462-b2b0-d39eebc383d1",
   "metadata": {},
   "outputs": [],
   "source": [
    "one_step_reloaded = tf.saved_model.load('../tf/one_step/')"
   ]
  },
  {
   "cell_type": "code",
   "execution_count": 4,
   "id": "d9398899-232d-4277-a13f-9b844338d2a7",
   "metadata": {},
   "outputs": [
    {
     "name": "stdout",
     "output_type": "stream",
     "text": [
      "Doge of Norfolk, OF France hold me as they duke,\n",
      "Proud shumbled friends, toward the north,\n",
      "Whose parts of great earthly prayers\n",
      "Than they shun the earth o' the Marquian\n",
      "That stabb'd me in that earnest adversaries\n",
      "To whose ill suffering stars upon a crown,\n",
      "Till the figure of Angelo.\n",
      "\n",
      "PETRUCHIO:\n",
      "Signior great Apollo!\n",
      "\n",
      "Boatswain:\n",
      "Will the frighter'd great command this spirit that?\n",
      "mutings, here utto my note.\n",
      "I see, I am forsworn to success.\n",
      "\n",
      "MERCUTIO:\n",
      "And so did I.\n",
      "\n",
      "ROMEO:\n",
      "What lawing would the world; and alsely a raised?\n",
      "\n",
      "GLOUCESTER:\n",
      "Ay, look,--\n",
      "\n",
      "ARDOND:\n",
      "Prepare to fiery good men are inder thee!\n",
      "\n",
      "CLIFFORD:\n",
      "You urged me, lodd, not untildem not his help.\n",
      "\n",
      "KING RICHARD III:\n",
      "Not to her friar; and therefore are the measure must I not see\n",
      "The glory is look on service, rawful will we follow:\n",
      "Some cheering uncles and her uncles?\n",
      "Under our father will I root it?\n",
      "I must awake his own beautifies;\n",
      "For now you know, my habities, beloved, and marry\n",
      "To seek their fortune in the mind that ever hence\n",
      "That he did play the unive Richard was any grievous just.\n",
      "My proud are true to the cause that truth of woe.\n",
      "\n",
      "GREMIO:\n",
      "I say, his own; he is gone! all this unto the Tower,\n",
      "Of EMwICaddime and for the heavens have a\n",
      "behind you in this since?\n",
      "\n",
      "HASTINGS:\n",
      "Griam, more more wife, I'll rungle love gives in my vow,\n",
      "I need no out; or both our lordship,\n",
      "And Margaret's by me justice day.\n",
      "\n",
      "Nurse:\n",
      "Oh!\n",
      "\n",
      "SEBASTIAN:\n",
      "Wherefore?\n",
      "\n",
      "Third Servingman:\n",
      "Why do you woo'd her? out,\n",
      "And yet, some courteous extremes it not\n",
      "To rest again; a merely maughter,\n",
      "That I, the battle's end, every soldiers;\n",
      "The eastern cloud realmett and instruct me too,\n",
      "For still 'my cheeks in Farenet,\n",
      "A peace of ware endining them out.\n",
      "\n",
      "RICHARD:\n",
      "Bring forth the king favours for his king.\n",
      "\n",
      "PRINCE EDWARD:\n",
      "Welcome, good Cambio.\n",
      "\n",
      "MENENIUS:\n",
      "He loves young grafe, that will not fly.\n",
      "Farewell, my Brother, Vircifia.\n",
      "Then, ere they live, to have a sovereign and\n",
      "Your frames, she's buttle attorn-yeared and\n",
      "renounce making his confidect she use to go to sur;\n",
      "\n"
     ]
    }
   ],
   "source": [
    "states = None\n",
    "next_char = tf.constant(['Dog'])\n",
    "result = [next_char]\n",
    "\n",
    "for n in range(2000):\n",
    "  next_char, states = one_step_reloaded.generate_one_step(next_char, states=states)\n",
    "  result.append(next_char)\n",
    "\n",
    "print(tf.strings.join(result)[0].numpy().decode(\"utf-8\"))"
   ]
  },
  {
   "cell_type": "code",
   "execution_count": null,
   "id": "7954ce9b-9f5d-4c94-a55f-04ac55db2a37",
   "metadata": {},
   "outputs": [],
   "source": []
  }
 ],
 "metadata": {
  "kernelspec": {
   "display_name": "Python 3 (ipykernel)",
   "language": "python",
   "name": "python3"
  },
  "language_info": {
   "codemirror_mode": {
    "name": "ipython",
    "version": 3
   },
   "file_extension": ".py",
   "mimetype": "text/x-python",
   "name": "python",
   "nbconvert_exporter": "python",
   "pygments_lexer": "ipython3",
   "version": "3.11.7"
  }
 },
 "nbformat": 4,
 "nbformat_minor": 5
}
