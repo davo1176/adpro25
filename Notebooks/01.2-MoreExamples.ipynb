{
 "cells": [
  {
   "cell_type": "markdown",
   "id": "9c04703a-7b30-46ba-9585-06a1bb6766a4",
   "metadata": {},
   "source": [
    "# 01.2 More examples of object handling - a look at Polymorphism"
   ]
  },
  {
   "cell_type": "markdown",
   "id": "c5c7d5fe-0675-41e8-9c5b-3aea9f2333b0",
   "metadata": {},
   "source": [
    "---\n",
    "# Taking another look at pandas\n",
    "\n",
    "By now you must have already some experience with ``pandas``. Let's load an example dataframe."
   ]
  },
  {
   "cell_type": "code",
   "execution_count": 1,
   "id": "a62de17c-496a-4d09-ae91-5c0d6bfa443a",
   "metadata": {},
   "outputs": [],
   "source": [
    "import pandas as pd\n",
    "import matplotlib.pyplot as plt\n",
    "import numpy as np"
   ]
  },
  {
   "cell_type": "code",
   "execution_count": 2,
   "id": "9d89342d-47cb-440d-993e-d6c48bf9c7e2",
   "metadata": {},
   "outputs": [],
   "source": [
    "#From the pandas documentation\n",
    "dates = pd.date_range(\"20240101\", periods=6) ##We'll come back at this code in the future\n",
    "\n",
    "df = pd.DataFrame(np.random.randn(6, 4), index=dates, columns=list(\"ABCD\"))"
   ]
  },
  {
   "cell_type": "code",
   "execution_count": 3,
   "id": "4eda2591-3764-45e8-9581-b45aff6a8a50",
   "metadata": {
    "tags": []
   },
   "outputs": [
    {
     "data": {
      "text/html": [
       "<div>\n",
       "<style scoped>\n",
       "    .dataframe tbody tr th:only-of-type {\n",
       "        vertical-align: middle;\n",
       "    }\n",
       "\n",
       "    .dataframe tbody tr th {\n",
       "        vertical-align: top;\n",
       "    }\n",
       "\n",
       "    .dataframe thead th {\n",
       "        text-align: right;\n",
       "    }\n",
       "</style>\n",
       "<table border=\"1\" class=\"dataframe\">\n",
       "  <thead>\n",
       "    <tr style=\"text-align: right;\">\n",
       "      <th></th>\n",
       "      <th>A</th>\n",
       "      <th>B</th>\n",
       "      <th>C</th>\n",
       "      <th>D</th>\n",
       "    </tr>\n",
       "  </thead>\n",
       "  <tbody>\n",
       "    <tr>\n",
       "      <th>2024-01-01</th>\n",
       "      <td>-0.300171</td>\n",
       "      <td>-0.663311</td>\n",
       "      <td>1.206819</td>\n",
       "      <td>-0.326721</td>\n",
       "    </tr>\n",
       "    <tr>\n",
       "      <th>2024-01-02</th>\n",
       "      <td>-0.537669</td>\n",
       "      <td>0.220072</td>\n",
       "      <td>0.847611</td>\n",
       "      <td>-0.498905</td>\n",
       "    </tr>\n",
       "    <tr>\n",
       "      <th>2024-01-03</th>\n",
       "      <td>-0.566577</td>\n",
       "      <td>-0.893918</td>\n",
       "      <td>0.636129</td>\n",
       "      <td>-2.061137</td>\n",
       "    </tr>\n",
       "    <tr>\n",
       "      <th>2024-01-04</th>\n",
       "      <td>0.836964</td>\n",
       "      <td>0.193003</td>\n",
       "      <td>1.137152</td>\n",
       "      <td>0.169833</td>\n",
       "    </tr>\n",
       "    <tr>\n",
       "      <th>2024-01-05</th>\n",
       "      <td>-1.517179</td>\n",
       "      <td>-2.838027</td>\n",
       "      <td>-0.885567</td>\n",
       "      <td>1.301373</td>\n",
       "    </tr>\n",
       "    <tr>\n",
       "      <th>2024-01-06</th>\n",
       "      <td>0.608113</td>\n",
       "      <td>-1.657124</td>\n",
       "      <td>-1.478607</td>\n",
       "      <td>0.020000</td>\n",
       "    </tr>\n",
       "  </tbody>\n",
       "</table>\n",
       "</div>"
      ],
      "text/plain": [
       "                   A         B         C         D\n",
       "2024-01-01 -0.300171 -0.663311  1.206819 -0.326721\n",
       "2024-01-02 -0.537669  0.220072  0.847611 -0.498905\n",
       "2024-01-03 -0.566577 -0.893918  0.636129 -2.061137\n",
       "2024-01-04  0.836964  0.193003  1.137152  0.169833\n",
       "2024-01-05 -1.517179 -2.838027 -0.885567  1.301373\n",
       "2024-01-06  0.608113 -1.657124 -1.478607  0.020000"
      ]
     },
     "execution_count": 3,
     "metadata": {},
     "output_type": "execute_result"
    }
   ],
   "source": [
    "df"
   ]
  },
  {
   "cell_type": "code",
   "execution_count": null,
   "id": "bd91ff0e-3d0a-45ad-9cf3-2b0096ed166b",
   "metadata": {},
   "outputs": [],
   "source": [
    "df."
   ]
  },
  {
   "cell_type": "markdown",
   "id": "d3bced29-c737-4279-a296-cfbf9e8267d7",
   "metadata": {},
   "source": [
    "<div class=\"alert alert-info\"> \n",
    "    <br>\n",
    "    <b>Exercise: Name an attribute and a method of the ``df`` object</b>   \n",
    "    <br>\n",
    "    <br>\n",
    "</div>"
   ]
  },
  {
   "cell_type": "code",
   "execution_count": 7,
   "id": "a4da6a7e-4d7c-4472-beac-0a5a14ed4049",
   "metadata": {},
   "outputs": [
    {
     "data": {
      "text/plain": [
       "tuple"
      ]
     },
     "execution_count": 7,
     "metadata": {},
     "output_type": "execute_result"
    }
   ],
   "source": [
    "type(df.shape)"
   ]
  },
  {
   "cell_type": "markdown",
   "id": "326868d1-dfc9-4aa3-bddf-d70ff37a05d5",
   "metadata": {},
   "source": [
    "Remember: Instead of having variables and functions, when contained of referring to an object, we usually call them:  \n",
    "variables &rarr; attributes  \n",
    "functions &rarr; methods"
   ]
  },
  {
   "cell_type": "markdown",
   "id": "00cd5e3e-1c18-488a-8778-caa05ec64345",
   "metadata": {},
   "source": [
    "What type is our object?"
   ]
  },
  {
   "cell_type": "code",
   "execution_count": 8,
   "id": "d887c09d-872d-4d36-88c9-4e473c7ac242",
   "metadata": {},
   "outputs": [
    {
     "data": {
      "text/plain": [
       "pandas.core.frame.DataFrame"
      ]
     },
     "execution_count": 8,
     "metadata": {},
     "output_type": "execute_result"
    }
   ],
   "source": [
    "type(df)"
   ]
  },
  {
   "cell_type": "code",
   "execution_count": 11,
   "id": "5eb49adf-7aa1-4728-9ca0-9157932efdce",
   "metadata": {},
   "outputs": [
    {
     "data": {
      "text/plain": [
       "-0.3001706422313906"
      ]
     },
     "execution_count": 11,
     "metadata": {},
     "output_type": "execute_result"
    }
   ],
   "source": [
    "df.A.values[0]"
   ]
  },
  {
   "cell_type": "code",
   "execution_count": 12,
   "id": "85ed68c5-b2ff-4dd1-b5f0-6e89a9c69260",
   "metadata": {},
   "outputs": [
    {
     "data": {
      "text/plain": [
       "numpy.float64"
      ]
     },
     "execution_count": 12,
     "metadata": {},
     "output_type": "execute_result"
    }
   ],
   "source": [
    "type(df.A.values[0])"
   ]
  },
  {
   "cell_type": "markdown",
   "id": "daaa5983-5c65-4658-89b5-5ed7f9b4ecfb",
   "metadata": {},
   "source": [
    "If you call the Dataframe object in a certain way, the return object has a different form: the object is polymorph."
   ]
  },
  {
   "cell_type": "code",
   "execution_count": 13,
   "id": "f438f637-7c1e-468b-8781-d3aa95a76973",
   "metadata": {},
   "outputs": [
    {
     "data": {
      "text/plain": [
       "(6, 4)"
      ]
     },
     "execution_count": 13,
     "metadata": {},
     "output_type": "execute_result"
    }
   ],
   "source": [
    "df.shape"
   ]
  },
  {
   "cell_type": "code",
   "execution_count": 14,
   "id": "9a07f040-a367-443e-8d06-7fd55b2ced9d",
   "metadata": {},
   "outputs": [
    {
     "data": {
      "text/plain": [
       "tuple"
      ]
     },
     "execution_count": 14,
     "metadata": {},
     "output_type": "execute_result"
    }
   ],
   "source": [
    "type(df.shape)"
   ]
  },
  {
   "cell_type": "code",
   "execution_count": 19,
   "id": "2e799d3e-125c-4b15-bfdd-df4b79819887",
   "metadata": {},
   "outputs": [
    {
     "data": {
      "text/html": [
       "<div>\n",
       "<style scoped>\n",
       "    .dataframe tbody tr th:only-of-type {\n",
       "        vertical-align: middle;\n",
       "    }\n",
       "\n",
       "    .dataframe tbody tr th {\n",
       "        vertical-align: top;\n",
       "    }\n",
       "\n",
       "    .dataframe thead th {\n",
       "        text-align: right;\n",
       "    }\n",
       "</style>\n",
       "<table border=\"1\" class=\"dataframe\">\n",
       "  <thead>\n",
       "    <tr style=\"text-align: right;\">\n",
       "      <th></th>\n",
       "      <th>A</th>\n",
       "      <th>B</th>\n",
       "      <th>C</th>\n",
       "      <th>D</th>\n",
       "    </tr>\n",
       "  </thead>\n",
       "  <tbody>\n",
       "    <tr>\n",
       "      <th>count</th>\n",
       "      <td>6.000000</td>\n",
       "      <td>6.000000</td>\n",
       "      <td>6.000000</td>\n",
       "      <td>6.000000</td>\n",
       "    </tr>\n",
       "    <tr>\n",
       "      <th>mean</th>\n",
       "      <td>-0.246086</td>\n",
       "      <td>-0.939884</td>\n",
       "      <td>0.243923</td>\n",
       "      <td>-0.232593</td>\n",
       "    </tr>\n",
       "    <tr>\n",
       "      <th>std</th>\n",
       "      <td>0.861277</td>\n",
       "      <td>1.168325</td>\n",
       "      <td>1.138960</td>\n",
       "      <td>1.095642</td>\n",
       "    </tr>\n",
       "    <tr>\n",
       "      <th>min</th>\n",
       "      <td>-1.517179</td>\n",
       "      <td>-2.838027</td>\n",
       "      <td>-1.478607</td>\n",
       "      <td>-2.061137</td>\n",
       "    </tr>\n",
       "    <tr>\n",
       "      <th>25%</th>\n",
       "      <td>-0.559350</td>\n",
       "      <td>-1.466322</td>\n",
       "      <td>-0.505143</td>\n",
       "      <td>-0.455859</td>\n",
       "    </tr>\n",
       "    <tr>\n",
       "      <th>50%</th>\n",
       "      <td>-0.418920</td>\n",
       "      <td>-0.778614</td>\n",
       "      <td>0.741870</td>\n",
       "      <td>-0.153361</td>\n",
       "    </tr>\n",
       "    <tr>\n",
       "      <th>75%</th>\n",
       "      <td>0.381042</td>\n",
       "      <td>-0.021075</td>\n",
       "      <td>1.064767</td>\n",
       "      <td>0.132375</td>\n",
       "    </tr>\n",
       "    <tr>\n",
       "      <th>max</th>\n",
       "      <td>0.836964</td>\n",
       "      <td>0.220072</td>\n",
       "      <td>1.206819</td>\n",
       "      <td>1.301373</td>\n",
       "    </tr>\n",
       "  </tbody>\n",
       "</table>\n",
       "</div>"
      ],
      "text/plain": [
       "              A         B         C         D\n",
       "count  6.000000  6.000000  6.000000  6.000000\n",
       "mean  -0.246086 -0.939884  0.243923 -0.232593\n",
       "std    0.861277  1.168325  1.138960  1.095642\n",
       "min   -1.517179 -2.838027 -1.478607 -2.061137\n",
       "25%   -0.559350 -1.466322 -0.505143 -0.455859\n",
       "50%   -0.418920 -0.778614  0.741870 -0.153361\n",
       "75%    0.381042 -0.021075  1.064767  0.132375\n",
       "max    0.836964  0.220072  1.206819  1.301373"
      ]
     },
     "execution_count": 19,
     "metadata": {},
     "output_type": "execute_result"
    }
   ],
   "source": [
    "df.describe()"
   ]
  },
  {
   "cell_type": "code",
   "execution_count": 20,
   "id": "bbfcd6ce-4f13-4d18-82b2-2bfed9cb9485",
   "metadata": {},
   "outputs": [
    {
     "data": {
      "text/plain": [
       "method"
      ]
     },
     "execution_count": 20,
     "metadata": {},
     "output_type": "execute_result"
    }
   ],
   "source": [
    "type(df.describe)"
   ]
  },
  {
   "cell_type": "code",
   "execution_count": 24,
   "id": "8ce95f40-1e5c-4824-a0e5-b779415de6c2",
   "metadata": {
    "tags": []
   },
   "outputs": [
    {
     "data": {
      "text/html": [
       "<div>\n",
       "<style scoped>\n",
       "    .dataframe tbody tr th:only-of-type {\n",
       "        vertical-align: middle;\n",
       "    }\n",
       "\n",
       "    .dataframe tbody tr th {\n",
       "        vertical-align: top;\n",
       "    }\n",
       "\n",
       "    .dataframe thead th {\n",
       "        text-align: right;\n",
       "    }\n",
       "</style>\n",
       "<table border=\"1\" class=\"dataframe\">\n",
       "  <thead>\n",
       "    <tr style=\"text-align: right;\">\n",
       "      <th></th>\n",
       "      <th>A</th>\n",
       "      <th>B</th>\n",
       "      <th>C</th>\n",
       "      <th>D</th>\n",
       "    </tr>\n",
       "  </thead>\n",
       "  <tbody>\n",
       "    <tr>\n",
       "      <th>count</th>\n",
       "      <td>6.000000</td>\n",
       "      <td>6.000000</td>\n",
       "      <td>6.000000</td>\n",
       "      <td>6.000000</td>\n",
       "    </tr>\n",
       "    <tr>\n",
       "      <th>mean</th>\n",
       "      <td>-0.246086</td>\n",
       "      <td>-0.939884</td>\n",
       "      <td>0.243923</td>\n",
       "      <td>-0.232593</td>\n",
       "    </tr>\n",
       "    <tr>\n",
       "      <th>std</th>\n",
       "      <td>0.861277</td>\n",
       "      <td>1.168325</td>\n",
       "      <td>1.138960</td>\n",
       "      <td>1.095642</td>\n",
       "    </tr>\n",
       "    <tr>\n",
       "      <th>min</th>\n",
       "      <td>-1.517179</td>\n",
       "      <td>-2.838027</td>\n",
       "      <td>-1.478607</td>\n",
       "      <td>-2.061137</td>\n",
       "    </tr>\n",
       "    <tr>\n",
       "      <th>25%</th>\n",
       "      <td>-0.559350</td>\n",
       "      <td>-1.466322</td>\n",
       "      <td>-0.505143</td>\n",
       "      <td>-0.455859</td>\n",
       "    </tr>\n",
       "  </tbody>\n",
       "</table>\n",
       "</div>"
      ],
      "text/plain": [
       "              A         B         C         D\n",
       "count  6.000000  6.000000  6.000000  6.000000\n",
       "mean  -0.246086 -0.939884  0.243923 -0.232593\n",
       "std    0.861277  1.168325  1.138960  1.095642\n",
       "min   -1.517179 -2.838027 -1.478607 -2.061137\n",
       "25%   -0.559350 -1.466322 -0.505143 -0.455859"
      ]
     },
     "execution_count": 24,
     "metadata": {},
     "output_type": "execute_result"
    }
   ],
   "source": [
    "df.describe().head().head().head().head().head().head().head().head().head().head().head().head() .head()"
   ]
  },
  {
   "cell_type": "markdown",
   "id": "fff45a5f-d05b-4fab-a4ac-8bbf0e285baf",
   "metadata": {},
   "source": [
    "We can call methods in a chain of code, as long as we are still apllying the methods to an object with the right type."
   ]
  },
  {
   "cell_type": "code",
   "execution_count": 28,
   "id": "a8aa77e3-864b-4d7f-9a6a-68c5c4743cd6",
   "metadata": {},
   "outputs": [
    {
     "data": {
      "text/plain": [
       "1.3013725657002686"
      ]
     },
     "execution_count": 28,
     "metadata": {},
     "output_type": "execute_result"
    }
   ],
   "source": [
    "df.max(axis=0).max() ## This is a series. It also has a \"max\" method"
   ]
  },
  {
   "cell_type": "code",
   "execution_count": 29,
   "id": "c231b2fc-e5c1-4333-b775-6508aa36027d",
   "metadata": {},
   "outputs": [
    {
     "data": {
      "text/plain": [
       "float"
      ]
     },
     "execution_count": 29,
     "metadata": {},
     "output_type": "execute_result"
    }
   ],
   "source": [
    "type(df.max().max())"
   ]
  },
  {
   "cell_type": "code",
   "execution_count": 31,
   "id": "cfd615a4-386a-4281-a9bf-397cf3b78fee",
   "metadata": {},
   "outputs": [
    {
     "ename": "AttributeError",
     "evalue": "'float' object has no attribute 'max'",
     "output_type": "error",
     "traceback": [
      "\u001b[1;31m---------------------------------------------------------------------------\u001b[0m",
      "\u001b[1;31mAttributeError\u001b[0m                            Traceback (most recent call last)",
      "Cell \u001b[1;32mIn[31], line 1\u001b[0m\n\u001b[1;32m----> 1\u001b[0m df\u001b[38;5;241m.\u001b[39mmax()\u001b[38;5;241m.\u001b[39mmax()\u001b[38;5;241m.\u001b[39mmax()\n",
      "\u001b[1;31mAttributeError\u001b[0m: 'float' object has no attribute 'max'"
     ]
    }
   ],
   "source": [
    "df.max().max().max()"
   ]
  },
  {
   "cell_type": "markdown",
   "id": "7fb2f4b2-08ab-47c8-92d0-dbee8fe870be",
   "metadata": {},
   "source": [
    "<div class=\"alert alert-info\"> \n",
    "    <br>\n",
    "    <b>1) Why can't you run df.max().max().max().</b><br>   \n",
    "    <b>2) Why can you run df.show().show().show().show().show() ?</b><br>\n",
    "    <br>\n",
    "</div>"
   ]
  },
  {
   "cell_type": "code",
   "execution_count": 33,
   "id": "c45d74ee-8484-4969-81f5-10613ebb98fa",
   "metadata": {},
   "outputs": [
    {
     "data": {
      "image/png": "[encoded data removed]",
      "text/plain": [
       "<Figure size 640x480 with 1 Axes>"
      ]
     },
     "metadata": {},
     "output_type": "display_data"
    }
   ],
   "source": [
    "df.plot() ## <-- is this the same as plt.plot()?\n",
    "plt.show()"
   ]
  },
  {
   "cell_type": "code",
   "execution_count": null,
   "id": "d062b8e4-8da4-41bd-a7c9-c72fc827bceb",
   "metadata": {
    "tags": []
   },
   "outputs": [],
   "source": [
    "df.plot() ## Press tab inside the parenthesis\n",
    "plt.show()"
   ]
  },
  {
   "cell_type": "markdown",
   "id": "0125bf09-b434-4f7f-8fce-a799e3d636ab",
   "metadata": {},
   "source": [
    "As you can see, pandas has documentation on its methods. Not only just the methods, but the overall code has a unique structure.  \n",
    "If we want people to use the code we develop it must be structured, organized, and documented.  \n",
    "[Now we will expand the class we have been working on](01.3-StyleGuide.ipynb) with some coding guidelines. If someone else wishes to use it or further develop it, they will have an easier task in reading your code."
   ]
  }
 ],
 "metadata": {
  "kernelspec": {
   "display_name": "Python 3 (ipykernel)",
   "language": "python",
   "name": "python3"
  },
  "language_info": {
   "codemirror_mode": {
    "name": "ipython",
    "version": 3
   },
   "file_extension": ".py",
   "mimetype": "text/x-python",
   "name": "python",
   "nbconvert_exporter": "python",
   "pygments_lexer": "ipython3",
   "version": "3.11.7"
  }
 },
 "nbformat": 4,
 "nbformat_minor": 5
}
