{
 "cells": [
  {
   "cell_type": "markdown",
   "metadata": {},
   "source": [
    "# 02.3 Enforcing correct variable types, part 2\n",
    "## Introduction to error handling: Exceptions\n",
    "\n",
    "We now segue into an important topic of programming: Exceptions. \n",
    "\n",
    "__Handling errors is much more than just enforcing correct variable types.__ It is about enforcing proper code usage, the way you designed it.\n",
    "\n",
    "You probably must have noticed the red area that pops up when one codes something the interperter cannot handle. Let us do a couple of examples with famous errors."
   ]
  },
  {
   "cell_type": "code",
   "execution_count": 1,
   "metadata": {
    "scrolled": true
   },
   "outputs": [
    {
     "ename": "ZeroDivisionError",
     "evalue": "division by zero",
     "output_type": "error",
     "traceback": [
      "\u001b[1;31m---------------------------------------------------------------------------\u001b[0m",
      "\u001b[1;31mZeroDivisionError\u001b[0m                         Traceback (most recent call last)",
      "Cell \u001b[1;32mIn[1], line 2\u001b[0m\n\u001b[0;32m      1\u001b[0m \u001b[38;5;241m1\u001b[39m\u001b[38;5;241m+\u001b[39m\u001b[38;5;241m1\u001b[39m\n\u001b[1;32m----> 2\u001b[0m \u001b[38;5;241m1\u001b[39m\u001b[38;5;241m/\u001b[39m\u001b[38;5;241m0\u001b[39m\n\u001b[0;32m      3\u001b[0m \u001b[38;5;241m2\u001b[39m\u001b[38;5;241m-\u001b[39m\u001b[38;5;241m1\u001b[39m\n",
      "\u001b[1;31mZeroDivisionError\u001b[0m: division by zero"
     ]
    }
   ],
   "source": [
    "1+1\n",
    "1/0\n",
    "2-1"
   ]
  },
  {
   "cell_type": "code",
   "execution_count": 4,
   "metadata": {},
   "outputs": [
    {
     "ename": "SyntaxError",
     "evalue": "expected ':' (3964378094.py, line 1)",
     "output_type": "error",
     "traceback": [
      "\u001b[1;36m  Cell \u001b[1;32mIn[4], line 1\u001b[1;36m\u001b[0m\n\u001b[1;33m    for i in range(5)\u001b[0m\n\u001b[1;37m                     ^\u001b[0m\n\u001b[1;31mSyntaxError\u001b[0m\u001b[1;31m:\u001b[0m expected ':'\n"
     ]
    }
   ],
   "source": [
    "for i in range(5)\n",
    "    print(i)"
   ]
  },
  {
   "cell_type": "markdown",
   "metadata": {},
   "source": [
    "The first case is a division by zero, which is not defined mathematically. The second case is a syntax error. The syntax of the first error is correct, which means the code is correctly written, the interpreter recognizes it, and has a special was of handling that particular situation. In the second case, the interpreter is not able to understand what you have written. The __Traceback__ points to the place in your code where the first exception the interpreter finds occurs."
   ]
  },
  {
   "cell_type": "markdown",
   "metadata": {},
   "source": [
    "### Types of exceptions\n",
    "\n",
    "The types of exceptions are vast in number. The process of coding can meet many obstacles."
   ]
  },
  {
   "cell_type": "code",
   "execution_count": 5,
   "metadata": {},
   "outputs": [
    {
     "name": "stdout",
     "output_type": "stream",
     "text": [
      " BaseException\n",
      "... BaseExceptionGroup\n",
      "...... ExceptionGroup\n",
      "... Exception\n",
      "...... ArithmeticError\n",
      "......... FloatingPointError\n",
      "......... OverflowError\n",
      "......... ZeroDivisionError\n",
      "............ DivisionByZero\n",
      "............ DivisionUndefined\n",
      "......... DecimalException\n",
      "............ Clamped\n",
      "............ Rounded\n",
      "............... Underflow\n",
      "............... Overflow\n",
      "............ Inexact\n",
      "............... Underflow\n",
      "............... Overflow\n",
      "............ Subnormal\n",
      "............... Underflow\n",
      "............ DivisionByZero\n",
      "............ FloatOperation\n",
      "............ InvalidOperation\n",
      "............... ConversionSyntax\n",
      "............... DivisionImpossible\n",
      "............... DivisionUndefined\n",
      "............... InvalidContext\n",
      "...... AssertionError\n",
      "...... AttributeError\n",
      "......... FrozenInstanceError\n",
      "...... BufferError\n",
      "...... EOFError\n",
      "......... IncompleteReadError\n",
      "...... ImportError\n",
      "......... ModuleNotFoundError\n",
      "............ PackageNotFoundError\n",
      "......... ZipImportError\n",
      "...... LookupError\n",
      "......... IndexError\n",
      "......... KeyError\n",
      "............ NoSuchKernel\n",
      "............ UnknownBackend\n",
      "......... CodecRegistryError\n",
      "...... MemoryError\n",
      "...... NameError\n",
      "......... UnboundLocalError\n",
      "...... OSError\n",
      "......... BlockingIOError\n",
      "......... ChildProcessError\n",
      "......... ConnectionError\n",
      "............ BrokenPipeError\n",
      "............ ConnectionAbortedError\n",
      "............ ConnectionRefusedError\n",
      "............ ConnectionResetError\n",
      "............... RemoteDisconnected\n",
      "......... FileExistsError\n",
      "......... FileNotFoundError\n",
      "......... InterruptedError\n",
      "............ InterruptedSystemCall\n",
      "......... IsADirectoryError\n",
      "......... NotADirectoryError\n",
      "......... PermissionError\n",
      "......... ProcessLookupError\n",
      "......... TimeoutError\n",
      "......... UnsupportedOperation\n",
      "......... herror\n",
      "......... gaierror\n",
      "......... SSLError\n",
      "............ SSLCertVerificationError\n",
      "............ SSLZeroReturnError\n",
      "............ SSLWantWriteError\n",
      "............ SSLWantReadError\n",
      "............ SSLSyscallError\n",
      "............ SSLEOFError\n",
      "......... Error\n",
      "............ SameFileError\n",
      "......... SpecialFileError\n",
      "......... ExecError\n",
      "......... ReadError\n",
      "......... URLError\n",
      "............ HTTPError\n",
      "............ ContentTooShortError\n",
      "......... BadGzipFile\n",
      "...... ReferenceError\n",
      "...... RuntimeError\n",
      "......... NotImplementedError\n",
      "............ ZMQVersionError\n",
      "............ StdinNotImplementedError\n",
      "......... RecursionError\n",
      "......... _DeadlockError\n",
      "......... BrokenBarrierError\n",
      "......... BrokenExecutor\n",
      "............ BrokenThreadPool\n",
      "......... SendfileNotAvailableError\n",
      "......... BrokenBarrierError\n",
      "......... ExtractionError\n",
      "......... VariableError\n",
      "...... StopAsyncIteration\n",
      "...... StopIteration\n",
      "...... SyntaxError\n",
      "......... IndentationError\n",
      "............ TabError\n",
      "...... SystemError\n",
      "......... CodecRegistryError\n",
      "...... TypeError\n",
      "......... FloatOperation\n",
      "......... MultipartConversionError\n",
      "...... ValueError\n",
      "......... UnicodeError\n",
      "............ UnicodeDecodeError\n",
      "............ UnicodeEncodeError\n",
      "............ UnicodeTranslateError\n",
      "......... UnsupportedOperation\n",
      "......... JSONDecodeError\n",
      "......... SSLCertVerificationError\n",
      "......... Error\n",
      "......... AddressValueError\n",
      "......... NetmaskValueError\n",
      "......... UnsupportedDigestmodError\n",
      "......... IllegalMonthError\n",
      "......... IllegalWeekdayError\n",
      "......... ParserError\n",
      "......... MessageDefect\n",
      "............ NoBoundaryInMultipartDefect\n",
      "............ StartBoundaryNotFoundDefect\n",
      "............ CloseBoundaryNotFoundDefect\n",
      "............ FirstHeaderLineIsContinuationDefect\n",
      "............ MisplacedEnvelopeHeaderDefect\n",
      "............ MissingHeaderBodySeparatorDefect\n",
      "............ MultipartInvariantViolationDefect\n",
      "............ InvalidMultipartContentTransferEncodingDefect\n",
      "............ UndecodableBytesDefect\n",
      "............ InvalidBase64PaddingDefect\n",
      "............ InvalidBase64CharactersDefect\n",
      "............ InvalidBase64LengthDefect\n",
      "............ HeaderDefect\n",
      "............... InvalidHeaderDefect\n",
      "............... HeaderMissingRequiredValue\n",
      "............... NonPrintableDefect\n",
      "............... ObsoleteHeaderDefect\n",
      "............... NonASCIILocalPartDefect\n",
      "............... InvalidDateDefect\n",
      "......... ClassNotFound\n",
      "......... ClipboardEmpty\n",
      "......... MacroToEdit\n",
      "......... InvalidFileException\n",
      "......... UnequalIterablesError\n",
      "......... InvalidVersion\n",
      "......... ELFInvalid\n",
      "......... InvalidWheelFilename\n",
      "......... InvalidSdistFilename\n",
      "......... InvalidSpecifier\n",
      "......... InvalidMarker\n",
      "......... UndefinedComparison\n",
      "......... UndefinedEnvironmentName\n",
      "......... InvalidRequirement\n",
      "............ RequirementParseError\n",
      "......... InvalidVersion\n",
      "...... Warning\n",
      "......... BytesWarning\n",
      "......... DeprecationWarning\n",
      "............ ProvisionalWarning\n",
      "......... EncodingWarning\n",
      "......... FutureWarning\n",
      "............ ProvisionalCompleterWarning\n",
      "......... ImportWarning\n",
      "......... PendingDeprecationWarning\n",
      "......... ResourceWarning\n",
      "......... RuntimeWarning\n",
      "............ ProactorSelectorThreadWarning\n",
      "............ UnknownTimezoneWarning\n",
      "............ PEP440Warning\n",
      "......... SyntaxWarning\n",
      "......... UnicodeWarning\n",
      "......... UserWarning\n",
      "............ GetPassWarning\n",
      "............ FormatterWarning\n",
      "......... DeprecatedTzFormatWarning\n",
      "......... PkgResourcesDeprecationWarning\n",
      "...... ExceptionGroup\n",
      "...... _OptionError\n",
      "...... _Error\n",
      "...... error\n",
      "...... Error\n",
      "...... SubprocessError\n",
      "......... CalledProcessError\n",
      "......... TimeoutExpired\n",
      "...... ZMQBaseError\n",
      "......... ZMQError\n",
      "............ ContextTerminated\n",
      "............ Again\n",
      "............ InterruptedSystemCall\n",
      "......... ZMQBindError\n",
      "......... NotDone\n",
      "...... Error\n",
      "...... error\n",
      "...... PickleError\n",
      "......... PicklingError\n",
      "......... UnpicklingError\n",
      "...... _Stop\n",
      "...... TokenError\n",
      "...... StopTokenizing\n",
      "...... Error\n",
      "......... CancelledError\n",
      "......... InvalidStateError\n",
      "...... _GiveupOnSendfile\n",
      "...... Incomplete\n",
      "...... ClassFoundException\n",
      "...... EndOfBlock\n",
      "...... InvalidStateError\n",
      "...... LimitOverrunError\n",
      "...... QueueEmpty\n",
      "...... QueueFull\n",
      "...... error\n",
      "...... LZMAError\n",
      "...... RegistryError\n",
      "...... _GiveupOnFastCopy\n",
      "...... TraitError\n",
      "...... Empty\n",
      "...... Full\n",
      "...... ArgumentError\n",
      "...... COMError\n",
      "...... ReturnValueIgnoredError\n",
      "...... ArgumentError\n",
      "...... ArgumentTypeError\n",
      "...... ConfigError\n",
      "......... ConfigLoaderError\n",
      "............ ArgumentError\n",
      "......... ConfigFileNotFound\n",
      "...... ConfigurableError\n",
      "......... MultipleInstanceError\n",
      "...... ApplicationError\n",
      "...... InvalidPortNumber\n",
      "...... NoIPAddresses\n",
      "...... Error\n",
      "...... BadZipFile\n",
      "...... LargeZipFile\n",
      "...... MessageError\n",
      "......... MessageParseError\n",
      "............ HeaderParseError\n",
      "............ BoundaryError\n",
      "......... MultipartConversionError\n",
      "......... CharsetError\n",
      "...... DuplicateKernelError\n",
      "...... ErrorDuringImport\n",
      "...... NotOneValueFound\n",
      "...... CannotEval\n",
      "...... OptionError\n",
      "...... BdbQuit\n",
      "...... Restart\n",
      "...... FindCmdError\n",
      "...... HomeDirError\n",
      "...... ProfileDirError\n",
      "...... IPythonCoreError\n",
      "......... TryNext\n",
      "......... UsageError\n",
      "......... StdinNotImplementedError\n",
      "...... InputRejected\n",
      "...... GetoptError\n",
      "...... ErrorToken\n",
      "...... PrefilterError\n",
      "...... AliasError\n",
      "......... InvalidAliasError\n",
      "...... Error\n",
      "......... InterfaceError\n",
      "......... DatabaseError\n",
      "............ InternalError\n",
      "............ OperationalError\n",
      "............ ProgrammingError\n",
      "............ IntegrityError\n",
      "............ DataError\n",
      "............ NotSupportedError\n",
      "...... Warning\n",
      "...... SpaceInInput\n",
      "...... DOMException\n",
      "......... IndexSizeErr\n",
      "......... DomstringSizeErr\n",
      "......... HierarchyRequestErr\n",
      "......... WrongDocumentErr\n",
      "......... InvalidCharacterErr\n",
      "......... NoDataAllowedErr\n",
      "......... NoModificationAllowedErr\n",
      "......... NotFoundErr\n",
      "......... NotSupportedErr\n",
      "......... InuseAttributeErr\n",
      "......... InvalidStateErr\n",
      "......... SyntaxErr\n",
      "......... InvalidModificationErr\n",
      "......... NamespaceErr\n",
      "......... InvalidAccessErr\n",
      "......... ValidationErr\n",
      "...... ValidationError\n",
      "...... EditReadOnlyBuffer\n",
      "...... _Retry\n",
      "...... InvalidLayoutError\n",
      "...... HeightIsUnknownError\n",
      "...... GuardRejection\n",
      "...... ParserSyntaxError\n",
      "...... InternalParseError\n",
      "...... _PositionUpdatingFinished\n",
      "...... SimpleGetItemNotFound\n",
      "...... UncaughtAttributeError\n",
      "...... HasNoContext\n",
      "...... ParamIssue\n",
      "...... _JediError\n",
      "......... InternalError\n",
      "......... WrongVersion\n",
      "......... RefactoringError\n",
      "...... OnErrorLeaf\n",
      "...... InvalidPythonEnvironment\n",
      "...... HTTPException\n",
      "......... NotConnected\n",
      "......... InvalidURL\n",
      "......... UnknownProtocol\n",
      "......... UnknownTransferEncoding\n",
      "......... UnimplementedFileMode\n",
      "......... IncompleteRead\n",
      "......... ImproperConnectionState\n",
      "............ CannotSendRequest\n",
      "............ CannotSendHeader\n",
      "............ ResponseNotReady\n",
      "......... BadStatusLine\n",
      "............ RemoteDisconnected\n",
      "......... LineTooLong\n",
      "...... InteractivelyDefined\n",
      "...... KillEmbedded\n",
      "...... Error\n",
      "......... NoSuchProcess\n",
      "............ ZombieProcess\n",
      "......... AccessDenied\n",
      "......... TimeoutExpired\n",
      "...... Error\n",
      "...... TimeoutExpired\n",
      "...... TimeoutAbandoned\n",
      "...... KeyReuseError\n",
      "...... UnknownKeyError\n",
      "...... LeakedCallbackError\n",
      "...... BadYieldError\n",
      "...... ReturnValueIgnoredError\n",
      "...... Return\n",
      "...... QueueEmpty\n",
      "...... QueueFull\n",
      "...... DebuggerInitializationError\n",
      "...... ExpatError\n",
      "...... Error\n",
      "......... ProtocolError\n",
      "......... ResponseError\n",
      "......... Fault\n",
      "...... ParserSyntaxError\n",
      "...... ResolutionError\n",
      "......... VersionConflict\n",
      "............ ContextualVersionConflict\n",
      "......... DistributionNotFound\n",
      "......... UnknownExtra\n",
      "...... _Error\n",
      "...... UnableToResolveVariableException\n",
      "...... InvalidTypeInArgsException\n",
      "... GeneratorExit\n",
      "... KeyboardInterrupt\n",
      "... SystemExit\n",
      "... CancelledError\n",
      "... AbortThread\n"
     ]
    }
   ],
   "source": [
    "def classtree(cls, indent=0):\n",
    "    print('.' * indent, cls.__name__)\n",
    "    for subcls in cls.__subclasses__():\n",
    "        classtree(subcls, indent + 3)\n",
    "\n",
    "classtree(BaseException)"
   ]
  },
  {
   "cell_type": "markdown",
   "metadata": {},
   "source": [
    "Let's get back on track. We are trying to make the following function do as advertised, and nothing else."
   ]
  },
  {
   "cell_type": "code",
   "execution_count": 6,
   "metadata": {},
   "outputs": [],
   "source": [
    "def my_func(my_var: int = 2, my_text: str = 'Blah!') -> str:\n",
    "    \"\"\"\n",
    "    Replicates a string assigned in 'my_text' a number of times in 'my_var'\n",
    "    \n",
    "    Parameters\n",
    "    ---------------\n",
    "    my_var: int\n",
    "        The number of times to replicate the input string\n",
    "    my_text: string\n",
    "        The string to be replicated\n",
    "        \n",
    "    Returns\n",
    "    ---------------\n",
    "    my_output: string\n",
    "        The 'my_text' string replicated 'my_var' times\n",
    "    \n",
    "    \"\"\"\n",
    "    \n",
    "    my_output = my_var * my_text\n",
    "    \n",
    "    return my_output"
   ]
  },
  {
   "cell_type": "markdown",
   "metadata": {},
   "source": [
    "Remember, at this point, this is still possible, with all the hard work you placed in it so far."
   ]
  },
  {
   "cell_type": "code",
   "execution_count": 7,
   "metadata": {},
   "outputs": [
    {
     "data": {
      "text/plain": [
       "6"
      ]
     },
     "execution_count": 7,
     "metadata": {},
     "output_type": "execute_result"
    }
   ],
   "source": [
    "my_func(2, 3)"
   ]
  },
  {
   "cell_type": "markdown",
   "metadata": {},
   "source": [
    "Should you wish the function to not display this behaviour, then you must __raise an exception__. Look at the existing types of exceptions and try to figure out what kind of error this is."
   ]
  },
  {
   "cell_type": "code",
   "execution_count": 11,
   "metadata": {},
   "outputs": [
    {
     "name": "stdout",
     "output_type": "stream",
     "text": [
      "StringStringString\n"
     ]
    }
   ],
   "source": [
    "a = 3\n",
    "b = 'String'\n",
    "\n",
    "if type(a) != int:\n",
    "    raise TypeError(\"Variable 'a' is not int\")\n",
    "    \n",
    "print(a * b)"
   ]
  },
  {
   "cell_type": "code",
   "execution_count": null,
   "metadata": {},
   "outputs": [],
   "source": [
    "a = 'Duck'\n",
    "b = 'String'\n",
    "\n",
    "if type(a) not in [int, float]:\n",
    "    raise TypeError(\"Variable 'a' is not int or float.\")\n",
    "    \n",
    "print(a * b)"
   ]
  },
  {
   "cell_type": "markdown",
   "metadata": {},
   "source": [
    "<div class=\"alert alert-info\"> \n",
    "    <br>\n",
    "    <b>Exercise: include the TypeError handling code into my_func</b>      \n",
    "    <br>\n",
    "    <br>\n",
    "</div>"
   ]
  },
  {
   "cell_type": "code",
   "execution_count": 12,
   "metadata": {},
   "outputs": [],
   "source": [
    "# %load ../Functions/my_function_handled.py\n",
    "def my_func(my_var: int = 2, my_text: str = 'Blah!') -> str:\n",
    "    \"\"\"\n",
    "    Replicates a string assigned in 'my_text' a number of times in 'my_var'\n",
    "    \n",
    "    Parameters\n",
    "    ---------------\n",
    "    my_var: int\n",
    "        The number of times to replicate the input string\n",
    "    my_text: string\n",
    "        The string to be replicated\n",
    "        \n",
    "    Returns\n",
    "    ---------------\n",
    "    my_output: string\n",
    "        The 'my_text' string replicated 'my_var' times\n",
    "    \n",
    "    \"\"\"\n",
    "    \n",
    "    if type(my_var) != int:\n",
    "        raise TypeError(\"Variable 'my_var' is not int.\")\n",
    "        \n",
    "    if type(my_text) != str:\n",
    "        raise TypeError(\"Variable 'my_text' is not string.\")\n",
    "    \n",
    "    my_output = my_var * my_text\n",
    "    \n",
    "    return my_output"
   ]
  },
  {
   "cell_type": "code",
   "execution_count": 15,
   "metadata": {},
   "outputs": [
    {
     "ename": "TypeError",
     "evalue": "Variable 'my_text' is not string.",
     "output_type": "error",
     "traceback": [
      "\u001b[1;31m---------------------------------------------------------------------------\u001b[0m",
      "\u001b[1;31mTypeError\u001b[0m                                 Traceback (most recent call last)",
      "Cell \u001b[1;32mIn[15], line 1\u001b[0m\n\u001b[1;32m----> 1\u001b[0m my_func(\u001b[38;5;241m2\u001b[39m, \u001b[38;5;241m3\u001b[39m)\n",
      "Cell \u001b[1;32mIn[12], line 24\u001b[0m, in \u001b[0;36mmy_func\u001b[1;34m(my_var, my_text)\u001b[0m\n\u001b[0;32m     21\u001b[0m     \u001b[38;5;28;01mraise\u001b[39;00m \u001b[38;5;167;01mTypeError\u001b[39;00m(\u001b[38;5;124m\"\u001b[39m\u001b[38;5;124mVariable \u001b[39m\u001b[38;5;124m'\u001b[39m\u001b[38;5;124mmy_var\u001b[39m\u001b[38;5;124m'\u001b[39m\u001b[38;5;124m is not int.\u001b[39m\u001b[38;5;124m\"\u001b[39m)\n\u001b[0;32m     23\u001b[0m \u001b[38;5;28;01mif\u001b[39;00m \u001b[38;5;28mtype\u001b[39m(my_text) \u001b[38;5;241m!=\u001b[39m \u001b[38;5;28mstr\u001b[39m:\n\u001b[1;32m---> 24\u001b[0m     \u001b[38;5;28;01mraise\u001b[39;00m \u001b[38;5;167;01mTypeError\u001b[39;00m(\u001b[38;5;124m\"\u001b[39m\u001b[38;5;124mVariable \u001b[39m\u001b[38;5;124m'\u001b[39m\u001b[38;5;124mmy_text\u001b[39m\u001b[38;5;124m'\u001b[39m\u001b[38;5;124m is not string.\u001b[39m\u001b[38;5;124m\"\u001b[39m)\n\u001b[0;32m     26\u001b[0m my_output \u001b[38;5;241m=\u001b[39m my_var \u001b[38;5;241m*\u001b[39m my_text\n\u001b[0;32m     28\u001b[0m \u001b[38;5;28;01mreturn\u001b[39;00m my_output\n",
      "\u001b[1;31mTypeError\u001b[0m: Variable 'my_text' is not string."
     ]
    }
   ],
   "source": [
    "my_func(2, 3)"
   ]
  },
  {
   "cell_type": "markdown",
   "metadata": {},
   "source": [
    "---"
   ]
  },
  {
   "cell_type": "markdown",
   "metadata": {},
   "source": [
    "## try - except - else - finally\n",
    "\n",
    "Sometimes your programme outputs an error due to an unforeseen circumstance. Sometimes you are planning in advance, expecting a multitude of scenarios to happen. You can't read the future, but you can anticipate some scenarios. And you can plan for those scenarios. With the try/except block, you can already catch many situations where you can design your code to be more robust.\n",
    "\n",
    "We will now see how we can handle most situations where you are already expecting for some extraneous situations to happen.\n",
    "\n",
    "If you are expecting a part of your code to fail because some conditions are not met, like if a file exists, you can make a ```try``` attempt."
   ]
  },
  {
   "cell_type": "code",
   "execution_count": 16,
   "metadata": {},
   "outputs": [
    {
     "ename": "FileNotFoundError",
     "evalue": "[Errno 2] No such file or directory: 'duck.csv'",
     "output_type": "error",
     "traceback": [
      "\u001b[1;31m---------------------------------------------------------------------------\u001b[0m",
      "\u001b[1;31mFileNotFoundError\u001b[0m                         Traceback (most recent call last)",
      "Cell \u001b[1;32mIn[16], line 1\u001b[0m\n\u001b[1;32m----> 1\u001b[0m \u001b[38;5;28;01mwith\u001b[39;00m \u001b[38;5;28mopen\u001b[39m(\u001b[38;5;124m'\u001b[39m\u001b[38;5;124mduck.csv\u001b[39m\u001b[38;5;124m'\u001b[39m) \u001b[38;5;28;01mas\u001b[39;00m f:\n\u001b[0;32m      2\u001b[0m     read_data \u001b[38;5;241m=\u001b[39m f\u001b[38;5;241m.\u001b[39mread()\n",
      "File \u001b[1;32m~\\anaconda3\\envs\\adpro\\Lib\\site-packages\\IPython\\core\\interactiveshell.py:310\u001b[0m, in \u001b[0;36m_modified_open\u001b[1;34m(file, *args, **kwargs)\u001b[0m\n\u001b[0;32m    303\u001b[0m \u001b[38;5;28;01mif\u001b[39;00m file \u001b[38;5;129;01min\u001b[39;00m {\u001b[38;5;241m0\u001b[39m, \u001b[38;5;241m1\u001b[39m, \u001b[38;5;241m2\u001b[39m}:\n\u001b[0;32m    304\u001b[0m     \u001b[38;5;28;01mraise\u001b[39;00m \u001b[38;5;167;01mValueError\u001b[39;00m(\n\u001b[0;32m    305\u001b[0m         \u001b[38;5;124mf\u001b[39m\u001b[38;5;124m\"\u001b[39m\u001b[38;5;124mIPython won\u001b[39m\u001b[38;5;124m'\u001b[39m\u001b[38;5;124mt let you open fd=\u001b[39m\u001b[38;5;132;01m{\u001b[39;00mfile\u001b[38;5;132;01m}\u001b[39;00m\u001b[38;5;124m by default \u001b[39m\u001b[38;5;124m\"\u001b[39m\n\u001b[0;32m    306\u001b[0m         \u001b[38;5;124m\"\u001b[39m\u001b[38;5;124mas it is likely to crash IPython. If you know what you are doing, \u001b[39m\u001b[38;5;124m\"\u001b[39m\n\u001b[0;32m    307\u001b[0m         \u001b[38;5;124m\"\u001b[39m\u001b[38;5;124myou can use builtins\u001b[39m\u001b[38;5;124m'\u001b[39m\u001b[38;5;124m open.\u001b[39m\u001b[38;5;124m\"\u001b[39m\n\u001b[0;32m    308\u001b[0m     )\n\u001b[1;32m--> 310\u001b[0m \u001b[38;5;28;01mreturn\u001b[39;00m io_open(file, \u001b[38;5;241m*\u001b[39margs, \u001b[38;5;241m*\u001b[39m\u001b[38;5;241m*\u001b[39mkwargs)\n",
      "\u001b[1;31mFileNotFoundError\u001b[0m: [Errno 2] No such file or directory: 'duck.csv'"
     ]
    }
   ],
   "source": [
    "with open('duck.csv') as f:\n",
    "    read_data = f.read()"
   ]
  },
  {
   "cell_type": "markdown",
   "metadata": {},
   "source": [
    "As expected, no such file exists in our hard drive.\n",
    "\n",
    "But let's say that we have a default value for the ```read_data``` variable we want to use, so we can continue our programme:"
   ]
  },
  {
   "cell_type": "code",
   "execution_count": 17,
   "metadata": {},
   "outputs": [
    {
     "name": "stdout",
     "output_type": "stream",
     "text": [
      "hello\n"
     ]
    }
   ],
   "source": [
    "try:\n",
    "    with open('duck.csv') as f:\n",
    "        read_data = f.read()\n",
    "except:\n",
    "    read_data = 'hello'\n",
    "    \n",
    "print(read_data)"
   ]
  },
  {
   "cell_type": "markdown",
   "metadata": {},
   "source": [
    "What is inside the ```try``` block is always executed. If an error is raised inside the ```try``` block, whatever is inside the ```except``` block will be executed.\n",
    "\n",
    "__However__, let's say there really is a duck.csv file. We left the file stream open, which is a terrible practice. If we open it, we need to close it! So we need to add an ```else``` block!"
   ]
  },
  {
   "cell_type": "markdown",
   "metadata": {},
   "source": [
    "<div class=\"alert alert-success\"> \n",
    "    <br>\n",
    "    <b>Create a file called duck.csv with some text. Run the next block of code.</b>      \n",
    "    <br>\n",
    "    <br>\n",
    "</div>"
   ]
  },
  {
   "cell_type": "code",
   "execution_count": null,
   "metadata": {},
   "outputs": [],
   "source": [
    "try:\n",
    "    with open('duck.csv') as f:\n",
    "        read_data = f.read()\n",
    "except:\n",
    "    read_data = 'duck'\n",
    "    \n",
    "print(read_data)"
   ]
  },
  {
   "cell_type": "markdown",
   "metadata": {},
   "source": [
    "Now we introduce the ```else``` block. It runs if the ```try``` block has ran successfully.\n",
    "\n",
    "As a good practice, we should close down the connection to the file if we actually managed to open it."
   ]
  },
  {
   "cell_type": "code",
   "execution_count": 18,
   "metadata": {},
   "outputs": [
    {
     "name": "stdout",
     "output_type": "stream",
     "text": [
      "Hello!\n",
      "duck\n"
     ]
    }
   ],
   "source": [
    "try:\n",
    "    with open('duck.csv') as f:\n",
    "        read_data = f.read()\n",
    "except:\n",
    "    read_data = 'duck'\n",
    "else:\n",
    "    f.close()\n",
    "finally:\n",
    "    print('Hello!')\n",
    "\n",
    "print(read_data)"
   ]
  },
  {
   "cell_type": "markdown",
   "metadata": {},
   "source": [
    "There is a final block called ```finally```. That always runs, no mater what."
   ]
  },
  {
   "cell_type": "markdown",
   "metadata": {},
   "source": [
    "<div class=\"alert alert-info\"> \n",
    "    <b>Create a function that receives a float and returns that according to the following instructions. Make a try/except/else/finally that:</b><br>\n",
    "    1. try to see if the number larger or equal than 5<br>\n",
    "    2. If it is, subtract 3<br>\n",
    "    3. If it is not add 2<br>\n",
    "    4. finally, always add 1<br>\n",
    "    5. Returns the input variable with those alterations.\n",
    "    <br>\n",
    "</div>"
   ]
  },
  {
   "cell_type": "code",
   "execution_count": null,
   "metadata": {},
   "outputs": [],
   "source": [
    "# %load ../Functions/tryexceptelsefinally.py"
   ]
  },
  {
   "cell_type": "code",
   "execution_count": null,
   "metadata": {},
   "outputs": [],
   "source": [
    "#tryexceptelsefinally(2)"
   ]
  },
  {
   "cell_type": "markdown",
   "metadata": {},
   "source": [
    "---"
   ]
  },
  {
   "cell_type": "markdown",
   "metadata": {},
   "source": [
    "Error handling is hard. Debugging is harder. But we can have [help with pytest](02.4-TestingWithPytest.ipynb)."
   ]
  }
 ],
 "metadata": {
  "kernelspec": {
   "display_name": "Python 3 (ipykernel)",
   "language": "python",
   "name": "python3"
  },
  "language_info": {
   "codemirror_mode": {
    "name": "ipython",
    "version": 3
   },
   "file_extension": ".py",
   "mimetype": "text/x-python",
   "name": "python",
   "nbconvert_exporter": "python",
   "pygments_lexer": "ipython3",
   "version": "3.11.7"
  }
 },
 "nbformat": 4,
 "nbformat_minor": 4
}
