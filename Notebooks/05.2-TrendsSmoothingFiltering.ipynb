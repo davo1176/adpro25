{
 "cells": [
  {
   "cell_type": "markdown",
   "metadata": {},
   "source": [
    "# 05.2 Trends, Smoothing, and Filtering\n",
    "\n",
    "Understanding the temporal evolution of a time series can provide you with insights about where the data might go next. For that you must understand the trends your data is having. A trend analysis is simply a way to see where you have been to try to understand where you are going.\n",
    "\n",
    "In some ocasions, you might want to present your findings, or remove undesired pieces of data. Remember, you might present you findings to someone without a data analysis background and you might need to adapt your plots"
   ]
  },
  {
   "cell_type": "markdown",
   "metadata": {},
   "source": [
    "---"
   ]
  },
  {
   "cell_type": "markdown",
   "metadata": {},
   "source": [
    "Trend analysis is usually much more complicated.\n",
    "There is a notebook in the examples directory with the [Covid Analysis](../Examples/03-CovidCasesPortugal.ipynb)."
   ]
  },
  {
   "cell_type": "markdown",
   "metadata": {},
   "source": [
    "---\n",
    "## Smoothing"
   ]
  },
  {
   "cell_type": "markdown",
   "metadata": {},
   "source": [
    "When you plot too much data, you might introduce graphical artefacts on the visualization.\n",
    "\n",
    "Smoothing may help you represent data in a better fashion. However, smoothing techniques have their drawbacks."
   ]
  },
  {
   "cell_type": "code",
   "execution_count": null,
   "metadata": {},
   "outputs": [],
   "source": [
    "import pandas as pd\n",
    "import matplotlib.pyplot as plt\n",
    "import numpy as np"
   ]
  },
  {
   "cell_type": "code",
   "execution_count": null,
   "metadata": {},
   "outputs": [],
   "source": [
    "temp_file = 'https://raw.githubusercontent.com/jbrownlee/Datasets/master/daily-min-temperatures.csv'\n",
    "\n",
    "dtemp = pd.read_csv(temp_file)"
   ]
  },
  {
   "cell_type": "code",
   "execution_count": null,
   "metadata": {},
   "outputs": [],
   "source": [
    "dtemp.head()"
   ]
  },
  {
   "cell_type": "code",
   "execution_count": null,
   "metadata": {},
   "outputs": [],
   "source": [
    "dtemp.plot(x='Date') ## Again, look at the unformatted x-axis"
   ]
  },
  {
   "cell_type": "code",
   "execution_count": null,
   "metadata": {},
   "outputs": [],
   "source": [
    "dtemp.dtypes"
   ]
  },
  {
   "cell_type": "code",
   "execution_count": null,
   "metadata": {},
   "outputs": [],
   "source": [
    "temp_series = dtemp.set_index('Date')\n",
    "temp_series.index = pd.to_datetime(temp_series.index)"
   ]
  },
  {
   "cell_type": "code",
   "execution_count": null,
   "metadata": {},
   "outputs": [],
   "source": [
    "temp_series.head()"
   ]
  },
  {
   "cell_type": "code",
   "execution_count": null,
   "metadata": {},
   "outputs": [],
   "source": [
    "fig, ax = plt.subplots(figsize=(12,5))\n",
    "temp_series.plot(ax=ax)\n",
    "plt.show()"
   ]
  },
  {
   "cell_type": "code",
   "execution_count": null,
   "metadata": {},
   "outputs": [],
   "source": []
  },
  {
   "cell_type": "markdown",
   "metadata": {},
   "source": [
    "The bread and butter of a data analyst is the rolling average. This is good for when we have plenty of points like in this case. Use only with a window that is comparatively small compared with the total number of points.\n",
    "\n",
    "Although for a simple analysis the rolling average is fine, it may give a wrong insight due to a poorly chosen window size."
   ]
  },
  {
   "cell_type": "code",
   "execution_count": null,
   "metadata": {},
   "outputs": [],
   "source": [
    "fig, ax = plt.subplots(figsize=(12,5))\n",
    "\n",
    "temp_series.plot(ax=ax, alpha=0.4)\n",
    "\n",
    "pts_avg = 10 #100 #200\n",
    "temp_series.rolling(pts_avg).mean().plot(ax=ax)\n",
    "plt.show()"
   ]
  },
  {
   "cell_type": "markdown",
   "metadata": {},
   "source": [
    "An alternative that might be better on ocasion is using a median filter instead of a rolling average. The median filter usually is best at filtering out outliers. It is widely used in photography to [remove moving objects from the desired background](https://medium.com/@nikolasmoya/simple-algorithm-to-remove-moving-objects-from-pictures-cdd3396c68e0). It also adds delays to your smoothed output."
   ]
  },
  {
   "cell_type": "code",
   "execution_count": null,
   "metadata": {},
   "outputs": [],
   "source": [
    "fig, ax = plt.subplots(figsize=(12,5))\n",
    "\n",
    "temp_series.plot(ax=ax, alpha=0.4)\n",
    "\n",
    "pts_avg = 29 # 39 # 79\n",
    "temp_series.rolling(pts_avg).median().plot(ax=ax)\n",
    "plt.show()"
   ]
  },
  {
   "cell_type": "markdown",
   "metadata": {},
   "source": [
    "The median filter is best used when you have a ground truth and a few points that \"escape\" your definition of \"good data\". Remember that the definition of outlier is in the eye of the beholder."
   ]
  },
  {
   "cell_type": "markdown",
   "metadata": {},
   "source": [
    "#### Intermission: a brief word about outliers\n",
    "\n",
    "What's the outlier in the next sequence?"
   ]
  },
  {
   "cell_type": "code",
   "execution_count": null,
   "metadata": {
    "tags": []
   },
   "outputs": [],
   "source": [
    "a = [0, 1, 2, 0, 300, 2]\n",
    "print(a)"
   ]
  },
  {
   "cell_type": "markdown",
   "metadata": {},
   "source": [
    "And in the next one?"
   ]
  },
  {
   "cell_type": "code",
   "execution_count": null,
   "metadata": {
    "tags": []
   },
   "outputs": [],
   "source": [
    "npts = 1000\n",
    "\n",
    "x = np.linspace(0, 90, npts)\n",
    "y = np.sin(x)\n",
    "y[200] = 3.0\n",
    "y[600] = -4.0\n",
    "\n",
    "print(y)"
   ]
  },
  {
   "cell_type": "markdown",
   "metadata": {},
   "source": [
    "And in the next example?"
   ]
  },
  {
   "cell_type": "code",
   "execution_count": null,
   "metadata": {
    "tags": []
   },
   "outputs": [],
   "source": [
    "dfmed = pd.DataFrame({'x':x, 'y':y})\n",
    "\n",
    "dfmed.plot(x='x', y='y', figsize=(12,5))\n",
    "plt.show()"
   ]
  },
  {
   "cell_type": "markdown",
   "metadata": {},
   "source": [
    "#### Remember: defining an outlier is hard.\n",
    "The median filter, in this case, can clearly filter out the outliers."
   ]
  },
  {
   "cell_type": "code",
   "execution_count": null,
   "metadata": {},
   "outputs": [],
   "source": [
    "dfmed_series = dfmed.set_index('x')\n",
    "dfmed_series.rolling(3).median().plot(figsize=(12,5))\n",
    "plt.show()"
   ]
  },
  {
   "cell_type": "markdown",
   "metadata": {},
   "source": [
    "---"
   ]
  },
  {
   "cell_type": "markdown",
   "metadata": {},
   "source": [
    "Let's take an in-depth look at [seasonality and trend](05.3-SeasonalityTrend.ipynb)."
   ]
  }
 ],
 "metadata": {
  "kernelspec": {
   "display_name": "Python 3 (ipykernel)",
   "language": "python",
   "name": "python3"
  },
  "language_info": {
   "codemirror_mode": {
    "name": "ipython",
    "version": 3
   },
   "file_extension": ".py",
   "mimetype": "text/x-python",
   "name": "python",
   "nbconvert_exporter": "python",
   "pygments_lexer": "ipython3",
   "version": "3.11.7"
  }
 },
 "nbformat": 4,
 "nbformat_minor": 4
}
