{
 "cells": [
  {
   "cell_type": "markdown",
   "metadata": {},
   "source": [
    "# Running local LLMs (but small ones)"
   ]
  },
  {
   "cell_type": "markdown",
   "metadata": {},
   "source": [
    "Check [ollama](https://ollama.com/)'s site to download and run models.  \n",
    "Check [ollama-python](https://github.com/ollama/ollama-python) at github to start using the API."
   ]
  },
  {
   "cell_type": "markdown",
   "metadata": {},
   "source": [
    "### Change python interpreter\n",
    "\n",
    "Ctrl + Shift + P  \n",
    "Python: Select Interpreter"
   ]
  },
  {
   "cell_type": "code",
   "execution_count": 1,
   "metadata": {},
   "outputs": [
    {
     "name": "stdout",
     "output_type": "stream",
     "text": [
      "<think>\n",
      "\n",
      "</think>\n",
      "\n",
      "The color of the sky, or its appearance as a gradient spectrum, primarily depends on atmospheric conditions such as temperature and humidity. When sunlight passes through Earth's atmosphere, it scatters shorter light wavelengths (like red) more than longer ones (like blue). This phenomenon is known as Rayleigh scattering, where shorter wavelengths are scattered preferentially. As a result, the sky appears blue during the day due to this effect.\n",
      "\n",
      "On the other hand, at sunrise and sunset, when the Sun is low on the horizon, the light has to pass through more atmosphere before reaching our eyes. In these cases, longer wavelengths (including blue) are scattered less, allowing shorter wavelengths (including red and yellow) to dominate, resulting in a red or orange setting sun.\n",
      "\n",
      "The exact reason for the sky's gradient spectrum also varies depending on atmospheric conditions, including temperature, pressure, humidity, and wind direction.\n",
      "<think>\n",
      "\n",
      "</think>\n",
      "\n",
      "The color of the sky, or its appearance as a gradient spectrum, primarily depends on atmospheric conditions such as temperature and humidity. When sunlight passes through Earth's atmosphere, it scatters shorter light wavelengths (like red) more than longer ones (like blue). This phenomenon is known as Rayleigh scattering, where shorter wavelengths are scattered preferentially. As a result, the sky appears blue during the day due to this effect.\n",
      "\n",
      "On the other hand, at sunrise and sunset, when the Sun is low on the horizon, the light has to pass through more atmosphere before reaching our eyes. In these cases, longer wavelengths (including blue) are scattered less, allowing shorter wavelengths (including red and yellow) to dominate, resulting in a red or orange setting sun.\n",
      "\n",
      "The exact reason for the sky's gradient spectrum also varies depending on atmospheric conditions, including temperature, pressure, humidity, and wind direction.\n"
     ]
    }
   ],
   "source": [
    "from ollama import chat\n",
    "from ollama import ChatResponse\n",
    "\n",
    "response: ChatResponse = chat(model='deepseek-r1:1.5B', messages=[\n",
    "  {\n",
    "    'role': 'user',\n",
    "    'content': 'Why is the sky blue?',\n",
    "  },\n",
    "])\n",
    "print(response['message']['content'])\n",
    "# or access fields directly from the response object\n",
    "print(response.message.content)"
   ]
  },
  {
   "cell_type": "code",
   "execution_count": 2,
   "metadata": {},
   "outputs": [
    {
     "name": "stdout",
     "output_type": "stream",
     "text": [
      "<think>\n",
      "\n",
      "</think>\n",
      "\n",
      "The color of the sky, or its appearance as a gradient spectrum, primarily depends on atmospheric conditions such as temperature and humidity. When sunlight passes through Earth's atmosphere, it scatters shorter light wavelengths (like red) more than longer ones (like blue). This phenomenon is known as Rayleigh scattering, where shorter wavelengths are scattered preferentially. As a result, the sky appears blue during the day due to this effect.\n",
      "\n",
      "On the other hand, at sunrise and sunset, when the Sun is low on the horizon, the light has to pass through more atmosphere before reaching our eyes. In these cases, longer wavelengths (including blue) are scattered less, allowing shorter wavelengths (including red and yellow) to dominate, resulting in a red or orange setting sun.\n",
      "\n",
      "The exact reason for the sky's gradient spectrum also varies depending on atmospheric conditions, including temperature, pressure, humidity, and wind direction.\n"
     ]
    }
   ],
   "source": [
    "print(response.message.content)"
   ]
  },
  {
   "cell_type": "code",
   "execution_count": null,
   "metadata": {},
   "outputs": [],
   "source": []
  }
 ],
 "metadata": {
  "kernelspec": {
   "display_name": "llm",
   "language": "python",
   "name": "python3"
  },
  "language_info": {
   "codemirror_mode": {
    "name": "ipython",
    "version": 3
   },
   "file_extension": ".py",
   "mimetype": "text/x-python",
   "name": "python",
   "nbconvert_exporter": "python",
   "pygments_lexer": "ipython3",
   "version": "3.11.11"
  }
 },
 "nbformat": 4,
 "nbformat_minor": 2
}
